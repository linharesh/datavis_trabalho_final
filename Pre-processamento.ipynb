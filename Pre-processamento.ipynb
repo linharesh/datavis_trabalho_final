{
 "cells": [
  {
   "cell_type": "code",
   "execution_count": 1,
   "metadata": {},
   "outputs": [],
   "source": [
    "import numpy as np\n",
    "import pandas as pd\n",
    "import matplotlib.pyplot as plt\n",
    "import seaborn as sns"
   ]
  },
  {
   "cell_type": "code",
   "execution_count": 2,
   "metadata": {},
   "outputs": [],
   "source": [
    "columns = ['NU_INSCRICAO', 'NO_MUNICIPIO_RESIDENCIA', 'SG_UF_RESIDENCIA', \n",
    "           'NU_IDADE', 'TP_SEXO', 'TP_ESTADO_CIVIL', \n",
    "           'TP_COR_RACA', 'TP_ANO_CONCLUIU', 'TP_ESCOLA', \n",
    "           'TP_ENSINO', 'IN_TREINEIRO', 'TP_DEPENDENCIA_ADM_ESC', \n",
    "           'TP_LOCALIZACAO_ESC', 'TP_PRESENCA_CN', 'TP_PRESENCA_CH', \n",
    "           'TP_PRESENCA_LC', 'TP_PRESENCA_MT', 'NU_NOTA_CN', \n",
    "           'NU_NOTA_CH', 'NU_NOTA_LC', 'NU_NOTA_MT', \n",
    "           'TP_LINGUA', 'TP_STATUS_REDACAO', 'NU_NOTA_REDACAO', \n",
    "           'Q001', 'Q002', 'Q005', \n",
    "           'Q006', 'Q024', 'Q025']"
   ]
  },
  {
   "cell_type": "code",
   "execution_count": 3,
   "metadata": {},
   "outputs": [],
   "source": [
    "ARQUIVO_CSV_MICRODADOS_ENEM_2019 = 'MICRODADOS_ENEM_2019.csv'\n",
    "SEPARADOR = ';'\n",
    "CODIFICACAO = 'ISO-8859-1'\n",
    "EXPORT_CSV = True\n",
    "EXPORT_FILE_NAME = 'preprocessed_data.csv'"
   ]
  },
  {
   "cell_type": "code",
   "execution_count": 4,
   "metadata": {},
   "outputs": [],
   "source": [
    "dataset = pd.read_csv(ARQUIVO_CSV_MICRODADOS_ENEM_2019, sep=SEPARADOR, encoding = CODIFICACAO, usecols = columns)"
   ]
  },
  {
   "cell_type": "code",
   "execution_count": 5,
   "metadata": {},
   "outputs": [],
   "source": [
    "dict_tp_sexo = {\"F\": \"Feminino\", \n",
    "                \"M\": \"Masculino\"}\n",
    "\n",
    "dict_tp_cor_raca = {0: 'Não declarado', \n",
    "                    1:'Branca', \n",
    "                    2: 'Preta', \n",
    "                    3: 'Parda', \n",
    "                    4: 'Amarela', \n",
    "                    5: 'Indígena'}\n",
    "\n",
    "dict_tp_estado_civil = {0: 'Não informado', \n",
    "                        1:'Solteiro(a)', \n",
    "                        2: 'Casado(a)/Mora com companheiro(a)', \n",
    "                        3: 'Divorciado(a)/Desquitado(a)/Separado(a)', \n",
    "                        4: 'Viúvo(a)'}\n",
    "\n",
    "dict_tp_escola = {0: \"Não informado\",\n",
    "                  1: \"Pública\",\n",
    "                  2: \"Privada\",\n",
    "                  3: \"Exterior\"}\n",
    "\n",
    "dict_tp_ensino = {1: \"Ensino Regular\",\n",
    "                  2: \"Educação Especial - Modalidade Substitutiva\",\n",
    "                  3: \"Educação de Jovens e Adultos\"}\n",
    "\n",
    "dict_in_treineiro = {0: \"Não\",\n",
    "                     1: \"Sim\"}\n",
    "\n",
    "dict_tp_dependencia_adm_esc = {1: \"Federal\",\n",
    "                               2: \"Estadual\",\n",
    "                               3: \"Municipal\",\n",
    "                               4: \"Privada\"}\n",
    "\n",
    "dict_tp_localizacao_esc = {1: \"Urbana\",\n",
    "                           2: \"Rural\"}\n",
    "\n",
    "dict_tp_status_redacao = {1: \"Sem problemas\",\n",
    "                          2: \"Anulada\",\n",
    "                          3: \"Cópia Texto Motivador\",\n",
    "                          4: \"Em Branco\",\n",
    "                          6: \"Fuga ao tema\",\n",
    "                          7: \"Não atendimento ao tipo textual\",\n",
    "                          8: \"Texto insuficiente\",\n",
    "                          9: \"Parte desconectada\"}\n",
    "\n",
    "dict_tp_lingua = {1: \"Inglês\",\n",
    "                  0: \"Espanhol\"}\n",
    "\n",
    "dict_q024 = {\"A\": \"Não\",\n",
    "             \"B\": \"Sim, um\",\n",
    "             \"C\": \"Sim, dois\",\n",
    "             \"D\": \"Sim, três\",\n",
    "             \"E\": \"Sim, quatro ou mais\"}\n",
    "\n",
    "dict_q025 = {\"A\": \"Não\",\n",
    "             \"B\": \"Sim\"}"
   ]
  },
  {
   "cell_type": "code",
   "execution_count": 6,
   "metadata": {},
   "outputs": [],
   "source": [
    "dataset = dataset.replace({\"TP_SEXO\": dict_tp_sexo,\n",
    "                           \"TP_COR_RACA\": dict_tp_cor_raca,\n",
    "                           \"TP_ESTADO_CIVIL\": dict_tp_estado_civil,\n",
    "                           \"TP_ESCOLA\": dict_tp_escola,\n",
    "                           \"TP_ENSINO\": dict_tp_ensino,\n",
    "                           \"IN_TREINEIRO\": dict_in_treineiro,\n",
    "                           \"TP_DEPENDENCIA_ADM_ESC\": dict_tp_dependencia_adm_esc,\n",
    "                           \"TP_LOCALIZACAO_ESC\": dict_tp_localizacao_esc,\n",
    "                           \"TP_STATUS_REDACAO\": dict_tp_status_redacao,\n",
    "                           \"TP_LINGUA\": dict_tp_lingua,\n",
    "                           \"Q024\": dict_q024,\n",
    "                           \"Q025\": dict_q025\n",
    "                          })"
   ]
  },
  {
   "cell_type": "code",
   "execution_count": 7,
   "metadata": {
    "scrolled": false
   },
   "outputs": [
    {
     "data": {
      "text/plain": [
       "Index(['NU_INSCRICAO', 'NO_MUNICIPIO_RESIDENCIA', 'SG_UF_RESIDENCIA',\n",
       "       'NU_IDADE', 'TP_SEXO', 'TP_ESTADO_CIVIL', 'TP_COR_RACA',\n",
       "       'TP_ANO_CONCLUIU', 'TP_ESCOLA', 'TP_ENSINO', 'IN_TREINEIRO',\n",
       "       'TP_DEPENDENCIA_ADM_ESC', 'TP_LOCALIZACAO_ESC', 'TP_PRESENCA_CN',\n",
       "       'TP_PRESENCA_CH', 'TP_PRESENCA_LC', 'TP_PRESENCA_MT', 'NU_NOTA_CN',\n",
       "       'NU_NOTA_CH', 'NU_NOTA_LC', 'NU_NOTA_MT', 'TP_LINGUA',\n",
       "       'TP_STATUS_REDACAO', 'NU_NOTA_REDACAO', 'Q001', 'Q002', 'Q005', 'Q006',\n",
       "       'Q024', 'Q025'],\n",
       "      dtype='object')"
      ]
     },
     "execution_count": 7,
     "metadata": {},
     "output_type": "execute_result"
    }
   ],
   "source": [
    "dataset.columns"
   ]
  },
  {
   "cell_type": "code",
   "execution_count": 8,
   "metadata": {},
   "outputs": [],
   "source": [
    "# Criando o atribudo media geral\n",
    "dataset['MEDIA_GERAL'] = (dataset['NU_NOTA_CN'] +dataset['NU_NOTA_CH'] + dataset['NU_NOTA_LC'] + dataset['NU_NOTA_MT'] + dataset['NU_NOTA_REDACAO']) /5"
   ]
  },
  {
   "cell_type": "code",
   "execution_count": 9,
   "metadata": {},
   "outputs": [],
   "source": [
    "# Exportando CSV\n",
    "if EXPORT_CSV:\n",
    "    dataset.to_csv(EXPORT_FILE_NAME, index = False)"
   ]
  },
  {
   "cell_type": "code",
   "execution_count": null,
   "metadata": {},
   "outputs": [],
   "source": []
  },
  {
   "cell_type": "code",
   "execution_count": 10,
   "metadata": {},
   "outputs": [],
   "source": [
    "# Normalização redução do total de campos dos atributos Q001 e Q002."
   ]
  },
  {
   "cell_type": "code",
   "execution_count": 11,
   "metadata": {},
   "outputs": [
    {
     "data": {
      "text/plain": [
       "E    1308991\n",
       "B    1135816\n",
       "C     723518\n",
       "D     586620\n",
       "H     444806\n",
       "F     375721\n",
       "A     290615\n",
       "G     229183\n",
       "Name: Q001, dtype: int64"
      ]
     },
     "execution_count": 11,
     "metadata": {},
     "output_type": "execute_result"
    }
   ],
   "source": [
    "dataset.Q001.value_counts()"
   ]
  },
  {
   "cell_type": "code",
   "execution_count": 12,
   "metadata": {},
   "outputs": [
    {
     "name": "stderr",
     "output_type": "stream",
     "text": [
      "/Users/HenriqueLinhares/anaconda3/lib/python3.7/site-packages/ipykernel_launcher.py:1: SettingWithCopyWarning: \n",
      "A value is trying to be set on a copy of a slice from a DataFrame\n",
      "\n",
      "See the caveats in the documentation: https://pandas.pydata.org/pandas-docs/stable/user_guide/indexing.html#returning-a-view-versus-a-copy\n",
      "  \"\"\"Entry point for launching an IPython kernel.\n",
      "/Users/HenriqueLinhares/anaconda3/lib/python3.7/site-packages/ipykernel_launcher.py:2: SettingWithCopyWarning: \n",
      "A value is trying to be set on a copy of a slice from a DataFrame\n",
      "\n",
      "See the caveats in the documentation: https://pandas.pydata.org/pandas-docs/stable/user_guide/indexing.html#returning-a-view-versus-a-copy\n",
      "  \n",
      "/Users/HenriqueLinhares/anaconda3/lib/python3.7/site-packages/ipykernel_launcher.py:3: SettingWithCopyWarning: \n",
      "A value is trying to be set on a copy of a slice from a DataFrame\n",
      "\n",
      "See the caveats in the documentation: https://pandas.pydata.org/pandas-docs/stable/user_guide/indexing.html#returning-a-view-versus-a-copy\n",
      "  This is separate from the ipykernel package so we can avoid doing imports until\n"
     ]
    }
   ],
   "source": [
    "dataset.Q001[(dataset.Q001=='A') | (dataset.Q001 == 'B') | (dataset.Q001 == 'C') | (dataset.Q001 == 'D') | (dataset.Q001 == 'H')] = 0\n",
    "dataset.Q001[(dataset.Q001=='E')] = 1\n",
    "dataset.Q001[(dataset.Q001=='F') | (dataset.Q001 == 'G')] = 2\n"
   ]
  },
  {
   "cell_type": "code",
   "execution_count": 13,
   "metadata": {},
   "outputs": [
    {
     "data": {
      "text/plain": [
       "E    1633692\n",
       "B     854826\n",
       "C     686198\n",
       "D     667415\n",
       "F     513711\n",
       "G     399470\n",
       "A     194625\n",
       "H     145333\n",
       "Name: Q002, dtype: int64"
      ]
     },
     "execution_count": 13,
     "metadata": {},
     "output_type": "execute_result"
    }
   ],
   "source": [
    "dataset.Q002.value_counts()"
   ]
  },
  {
   "cell_type": "code",
   "execution_count": 14,
   "metadata": {},
   "outputs": [
    {
     "name": "stderr",
     "output_type": "stream",
     "text": [
      "/Users/HenriqueLinhares/anaconda3/lib/python3.7/site-packages/ipykernel_launcher.py:1: SettingWithCopyWarning: \n",
      "A value is trying to be set on a copy of a slice from a DataFrame\n",
      "\n",
      "See the caveats in the documentation: https://pandas.pydata.org/pandas-docs/stable/user_guide/indexing.html#returning-a-view-versus-a-copy\n",
      "  \"\"\"Entry point for launching an IPython kernel.\n",
      "/Users/HenriqueLinhares/anaconda3/lib/python3.7/site-packages/ipykernel_launcher.py:2: SettingWithCopyWarning: \n",
      "A value is trying to be set on a copy of a slice from a DataFrame\n",
      "\n",
      "See the caveats in the documentation: https://pandas.pydata.org/pandas-docs/stable/user_guide/indexing.html#returning-a-view-versus-a-copy\n",
      "  \n",
      "/Users/HenriqueLinhares/anaconda3/lib/python3.7/site-packages/ipykernel_launcher.py:3: SettingWithCopyWarning: \n",
      "A value is trying to be set on a copy of a slice from a DataFrame\n",
      "\n",
      "See the caveats in the documentation: https://pandas.pydata.org/pandas-docs/stable/user_guide/indexing.html#returning-a-view-versus-a-copy\n",
      "  This is separate from the ipykernel package so we can avoid doing imports until\n"
     ]
    }
   ],
   "source": [
    "dataset.Q002[(dataset.Q002=='A') | (dataset.Q002 == 'B') | (dataset.Q002 == 'C') | (dataset.Q002 == 'D') | (dataset.Q002 == 'H')] = 0\n",
    "dataset.Q002[(dataset.Q002=='E')] = 1\n",
    "dataset.Q002[(dataset.Q002=='F') | (dataset.Q002 == 'G')] = 2"
   ]
  },
  {
   "cell_type": "code",
   "execution_count": null,
   "metadata": {},
   "outputs": [],
   "source": []
  },
  {
   "cell_type": "code",
   "execution_count": 15,
   "metadata": {},
   "outputs": [],
   "source": [
    "# Normalização redução do total de campos dos atributos Q006"
   ]
  },
  {
   "cell_type": "code",
   "execution_count": 16,
   "metadata": {},
   "outputs": [
    {
     "data": {
      "text/plain": [
       "C    1311465\n",
       "B    1273250\n",
       "D     499616\n",
       "E     475568\n",
       "G     301922\n",
       "A     232075\n",
       "F     226251\n",
       "H     192912\n",
       "I     143652\n",
       "J      80789\n",
       "N      61649\n",
       "K      58026\n",
       "Q      57149\n",
       "O      50203\n",
       "L      44189\n",
       "M      43300\n",
       "P      43254\n",
       "Name: Q006, dtype: int64"
      ]
     },
     "execution_count": 16,
     "metadata": {},
     "output_type": "execute_result"
    }
   ],
   "source": [
    "dataset.Q006.value_counts()"
   ]
  },
  {
   "cell_type": "code",
   "execution_count": 17,
   "metadata": {},
   "outputs": [
    {
     "name": "stderr",
     "output_type": "stream",
     "text": [
      "/Users/HenriqueLinhares/anaconda3/lib/python3.7/site-packages/ipykernel_launcher.py:1: SettingWithCopyWarning: \n",
      "A value is trying to be set on a copy of a slice from a DataFrame\n",
      "\n",
      "See the caveats in the documentation: https://pandas.pydata.org/pandas-docs/stable/user_guide/indexing.html#returning-a-view-versus-a-copy\n",
      "  \"\"\"Entry point for launching an IPython kernel.\n",
      "/Users/HenriqueLinhares/anaconda3/lib/python3.7/site-packages/ipykernel_launcher.py:2: SettingWithCopyWarning: \n",
      "A value is trying to be set on a copy of a slice from a DataFrame\n",
      "\n",
      "See the caveats in the documentation: https://pandas.pydata.org/pandas-docs/stable/user_guide/indexing.html#returning-a-view-versus-a-copy\n",
      "  \n"
     ]
    }
   ],
   "source": [
    "dataset.Q006[(dataset.Q006=='A') | (dataset.Q006 == 'B')] = 0\n",
    "dataset.Q006[(dataset.Q006=='C')] = 1"
   ]
  },
  {
   "cell_type": "code",
   "execution_count": 18,
   "metadata": {},
   "outputs": [
    {
     "name": "stderr",
     "output_type": "stream",
     "text": [
      "/Users/HenriqueLinhares/anaconda3/lib/python3.7/site-packages/ipykernel_launcher.py:1: SettingWithCopyWarning: \n",
      "A value is trying to be set on a copy of a slice from a DataFrame\n",
      "\n",
      "See the caveats in the documentation: https://pandas.pydata.org/pandas-docs/stable/user_guide/indexing.html#returning-a-view-versus-a-copy\n",
      "  \"\"\"Entry point for launching an IPython kernel.\n"
     ]
    }
   ],
   "source": [
    "dataset.Q006[(dataset.Q006 !=0) & (dataset.Q006 !=1)] = 2"
   ]
  },
  {
   "cell_type": "code",
   "execution_count": 19,
   "metadata": {},
   "outputs": [
    {
     "data": {
      "text/plain": [
       "2    2278480\n",
       "0    1505325\n",
       "1    1311465\n",
       "Name: Q006, dtype: int64"
      ]
     },
     "execution_count": 19,
     "metadata": {},
     "output_type": "execute_result"
    }
   ],
   "source": [
    "dataset.Q006.value_counts()"
   ]
  },
  {
   "cell_type": "code",
   "execution_count": null,
   "metadata": {},
   "outputs": [],
   "source": []
  },
  {
   "cell_type": "code",
   "execution_count": 20,
   "metadata": {},
   "outputs": [],
   "source": [
    "# Normalização redução do total de campos dos atributos Q024"
   ]
  },
  {
   "cell_type": "code",
   "execution_count": 21,
   "metadata": {},
   "outputs": [
    {
     "data": {
      "text/plain": [
       "A    2345467\n",
       "B    2202984\n",
       "C     384607\n",
       "D     114655\n",
       "E      47557\n",
       "Name: Q024, dtype: int64"
      ]
     },
     "execution_count": 21,
     "metadata": {},
     "output_type": "execute_result"
    }
   ],
   "source": [
    "dataset.Q024.value_counts()"
   ]
  },
  {
   "cell_type": "code",
   "execution_count": 22,
   "metadata": {},
   "outputs": [
    {
     "name": "stderr",
     "output_type": "stream",
     "text": [
      "/Users/HenriqueLinhares/anaconda3/lib/python3.7/site-packages/ipykernel_launcher.py:1: SettingWithCopyWarning: \n",
      "A value is trying to be set on a copy of a slice from a DataFrame\n",
      "\n",
      "See the caveats in the documentation: https://pandas.pydata.org/pandas-docs/stable/user_guide/indexing.html#returning-a-view-versus-a-copy\n",
      "  \"\"\"Entry point for launching an IPython kernel.\n",
      "/Users/HenriqueLinhares/anaconda3/lib/python3.7/site-packages/ipykernel_launcher.py:2: SettingWithCopyWarning: \n",
      "A value is trying to be set on a copy of a slice from a DataFrame\n",
      "\n",
      "See the caveats in the documentation: https://pandas.pydata.org/pandas-docs/stable/user_guide/indexing.html#returning-a-view-versus-a-copy\n",
      "  \n"
     ]
    }
   ],
   "source": [
    "dataset.Q024[(dataset.Q024=='A')] = 0\n",
    "dataset.Q024[(dataset.Q024 !=0)] = 1"
   ]
  },
  {
   "cell_type": "code",
   "execution_count": 23,
   "metadata": {},
   "outputs": [
    {
     "data": {
      "text/plain": [
       "1    2749803\n",
       "0    2345467\n",
       "Name: Q024, dtype: int64"
      ]
     },
     "execution_count": 23,
     "metadata": {},
     "output_type": "execute_result"
    }
   ],
   "source": [
    "dataset.Q024.value_counts()"
   ]
  },
  {
   "cell_type": "code",
   "execution_count": null,
   "metadata": {},
   "outputs": [],
   "source": []
  },
  {
   "cell_type": "code",
   "execution_count": 24,
   "metadata": {},
   "outputs": [],
   "source": [
    "# Normalização redução do total de campos dos atributos Q025"
   ]
  },
  {
   "cell_type": "code",
   "execution_count": 25,
   "metadata": {},
   "outputs": [
    {
     "data": {
      "text/plain": [
       "B    3954805\n",
       "A    1140465\n",
       "Name: Q025, dtype: int64"
      ]
     },
     "execution_count": 25,
     "metadata": {},
     "output_type": "execute_result"
    }
   ],
   "source": [
    "dataset.Q025.value_counts()"
   ]
  },
  {
   "cell_type": "code",
   "execution_count": 26,
   "metadata": {},
   "outputs": [
    {
     "name": "stderr",
     "output_type": "stream",
     "text": [
      "/Users/HenriqueLinhares/anaconda3/lib/python3.7/site-packages/ipykernel_launcher.py:1: SettingWithCopyWarning: \n",
      "A value is trying to be set on a copy of a slice from a DataFrame\n",
      "\n",
      "See the caveats in the documentation: https://pandas.pydata.org/pandas-docs/stable/user_guide/indexing.html#returning-a-view-versus-a-copy\n",
      "  \"\"\"Entry point for launching an IPython kernel.\n",
      "/Users/HenriqueLinhares/anaconda3/lib/python3.7/site-packages/ipykernel_launcher.py:2: SettingWithCopyWarning: \n",
      "A value is trying to be set on a copy of a slice from a DataFrame\n",
      "\n",
      "See the caveats in the documentation: https://pandas.pydata.org/pandas-docs/stable/user_guide/indexing.html#returning-a-view-versus-a-copy\n",
      "  \n"
     ]
    }
   ],
   "source": [
    "dataset.Q025[(dataset.Q025=='A')] = 0\n",
    "dataset.Q025[(dataset.Q025 !=0)] = 1"
   ]
  },
  {
   "cell_type": "code",
   "execution_count": 27,
   "metadata": {},
   "outputs": [
    {
     "data": {
      "text/plain": [
       "1    3954805\n",
       "0    1140465\n",
       "Name: Q025, dtype: int64"
      ]
     },
     "execution_count": 27,
     "metadata": {},
     "output_type": "execute_result"
    }
   ],
   "source": [
    "dataset.Q025.value_counts()"
   ]
  },
  {
   "cell_type": "code",
   "execution_count": null,
   "metadata": {},
   "outputs": [],
   "source": []
  },
  {
   "cell_type": "code",
   "execution_count": null,
   "metadata": {},
   "outputs": [],
   "source": []
  },
  {
   "cell_type": "code",
   "execution_count": null,
   "metadata": {},
   "outputs": [],
   "source": []
  },
  {
   "cell_type": "code",
   "execution_count": null,
   "metadata": {},
   "outputs": [],
   "source": []
  },
  {
   "cell_type": "code",
   "execution_count": 28,
   "metadata": {},
   "outputs": [],
   "source": [
    "#plots iniciais "
   ]
  },
  {
   "cell_type": "code",
   "execution_count": 29,
   "metadata": {},
   "outputs": [],
   "source": [
    "#total de candidatos em funcao da media geral dos candidatos "
   ]
  },
  {
   "cell_type": "code",
   "execution_count": 30,
   "metadata": {},
   "outputs": [
    {
     "data": {
      "text/plain": [
       "<matplotlib.axes._subplots.AxesSubplot at 0x7fc289c997d0>"
      ]
     },
     "execution_count": 30,
     "metadata": {},
     "output_type": "execute_result"
    },
    {
     "data": {
      "image/png": "[encoded data removed]",
      "text/plain": [
       "<Figure size 1080x360 with 1 Axes>"
      ]
     },
     "metadata": {
      "needs_background": "light"
     },
     "output_type": "display_data"
    }
   ],
   "source": [
    "plt.figure(figsize=(15,5))\n",
    "sns.distplot(dataset['MEDIA_GERAL'], kde=False, bins=100)"
   ]
  },
  {
   "cell_type": "code",
   "execution_count": null,
   "metadata": {},
   "outputs": [],
   "source": []
  },
  {
   "cell_type": "code",
   "execution_count": 31,
   "metadata": {},
   "outputs": [],
   "source": [
    "#Medai dos canditos por estados "
   ]
  },
  {
   "cell_type": "code",
   "execution_count": 32,
   "metadata": {},
   "outputs": [
    {
     "data": {
      "text/plain": [
       "<matplotlib.axes._subplots.AxesSubplot at 0x7fc143e20fd0>"
      ]
     },
     "execution_count": 32,
     "metadata": {},
     "output_type": "execute_result"
    },
    {
     "data": {
      "image/png": "[encoded data removed]",
      "text/plain": [
       "<Figure size 720x360 with 1 Axes>"
      ]
     },
     "metadata": {
      "needs_background": "light"
     },
     "output_type": "display_data"
    }
   ],
   "source": [
    "plt.figure(figsize=(10,5))\n",
    "sns.barplot(x='SG_UF_RESIDENCIA', y='MEDIA_GERAL', data=dataset)"
   ]
  },
  {
   "cell_type": "code",
   "execution_count": null,
   "metadata": {},
   "outputs": [],
   "source": []
  },
  {
   "cell_type": "code",
   "execution_count": 33,
   "metadata": {},
   "outputs": [],
   "source": [
    "corr = dataset.corr()"
   ]
  },
  {
   "cell_type": "code",
   "execution_count": 34,
   "metadata": {},
   "outputs": [
    {
     "data": {
      "text/html": [
       "<div>\n",
       "<style scoped>\n",
       "    .dataframe tbody tr th:only-of-type {\n",
       "        vertical-align: middle;\n",
       "    }\n",
       "\n",
       "    .dataframe tbody tr th {\n",
       "        vertical-align: top;\n",
       "    }\n",
       "\n",
       "    .dataframe thead th {\n",
       "        text-align: right;\n",
       "    }\n",
       "</style>\n",
       "<table border=\"1\" class=\"dataframe\">\n",
       "  <thead>\n",
       "    <tr style=\"text-align: right;\">\n",
       "      <th></th>\n",
       "      <th>NU_INSCRICAO</th>\n",
       "      <th>NU_IDADE</th>\n",
       "      <th>TP_ANO_CONCLUIU</th>\n",
       "      <th>TP_ESCOLA</th>\n",
       "      <th>TP_ENSINO</th>\n",
       "      <th>IN_TREINEIRO</th>\n",
       "      <th>TP_DEPENDENCIA_ADM_ESC</th>\n",
       "      <th>TP_LOCALIZACAO_ESC</th>\n",
       "      <th>TP_PRESENCA_CN</th>\n",
       "      <th>TP_PRESENCA_CH</th>\n",
       "      <th>...</th>\n",
       "      <th>TP_PRESENCA_MT</th>\n",
       "      <th>NU_NOTA_CN</th>\n",
       "      <th>NU_NOTA_CH</th>\n",
       "      <th>NU_NOTA_LC</th>\n",
       "      <th>NU_NOTA_MT</th>\n",
       "      <th>TP_LINGUA</th>\n",
       "      <th>TP_STATUS_REDACAO</th>\n",
       "      <th>NU_NOTA_REDACAO</th>\n",
       "      <th>Q005</th>\n",
       "      <th>MEDIA_GERAL</th>\n",
       "    </tr>\n",
       "  </thead>\n",
       "  <tbody>\n",
       "    <tr>\n",
       "      <th>NU_INSCRICAO</th>\n",
       "      <td>1.000000</td>\n",
       "      <td>0.073590</td>\n",
       "      <td>0.075237</td>\n",
       "      <td>-0.096766</td>\n",
       "      <td>0.005770</td>\n",
       "      <td>0.086941</td>\n",
       "      <td>0.079565</td>\n",
       "      <td>0.016738</td>\n",
       "      <td>-0.083204</td>\n",
       "      <td>-0.078718</td>\n",
       "      <td>...</td>\n",
       "      <td>-0.083204</td>\n",
       "      <td>0.013665</td>\n",
       "      <td>-0.006399</td>\n",
       "      <td>-0.004879</td>\n",
       "      <td>0.025321</td>\n",
       "      <td>-0.023963</td>\n",
       "      <td>0.022389</td>\n",
       "      <td>-0.073068</td>\n",
       "      <td>-0.031557</td>\n",
       "      <td>-0.023811</td>\n",
       "    </tr>\n",
       "    <tr>\n",
       "      <th>NU_IDADE</th>\n",
       "      <td>0.073590</td>\n",
       "      <td>1.000000</td>\n",
       "      <td>0.778143</td>\n",
       "      <td>-0.312943</td>\n",
       "      <td>0.052090</td>\n",
       "      <td>-0.276725</td>\n",
       "      <td>-0.082138</td>\n",
       "      <td>0.010119</td>\n",
       "      <td>-0.201027</td>\n",
       "      <td>-0.208653</td>\n",
       "      <td>...</td>\n",
       "      <td>-0.201027</td>\n",
       "      <td>-0.056845</td>\n",
       "      <td>-0.032498</td>\n",
       "      <td>-0.085970</td>\n",
       "      <td>-0.139390</td>\n",
       "      <td>0.145876</td>\n",
       "      <td>0.056552</td>\n",
       "      <td>-0.167270</td>\n",
       "      <td>-0.133307</td>\n",
       "      <td>-0.138191</td>\n",
       "    </tr>\n",
       "    <tr>\n",
       "      <th>TP_ANO_CONCLUIU</th>\n",
       "      <td>0.075237</td>\n",
       "      <td>0.778143</td>\n",
       "      <td>1.000000</td>\n",
       "      <td>-0.430127</td>\n",
       "      <td>0.013607</td>\n",
       "      <td>-0.267545</td>\n",
       "      <td>NaN</td>\n",
       "      <td>NaN</td>\n",
       "      <td>-0.201837</td>\n",
       "      <td>-0.217316</td>\n",
       "      <td>...</td>\n",
       "      <td>-0.201837</td>\n",
       "      <td>0.018426</td>\n",
       "      <td>0.047753</td>\n",
       "      <td>0.018683</td>\n",
       "      <td>-0.051538</td>\n",
       "      <td>0.126988</td>\n",
       "      <td>-0.004527</td>\n",
       "      <td>-0.066168</td>\n",
       "      <td>-0.147945</td>\n",
       "      <td>-0.028193</td>\n",
       "    </tr>\n",
       "    <tr>\n",
       "      <th>TP_ESCOLA</th>\n",
       "      <td>-0.096766</td>\n",
       "      <td>-0.312943</td>\n",
       "      <td>-0.430127</td>\n",
       "      <td>1.000000</td>\n",
       "      <td>-0.013425</td>\n",
       "      <td>-0.221365</td>\n",
       "      <td>0.811156</td>\n",
       "      <td>-0.057432</td>\n",
       "      <td>0.158994</td>\n",
       "      <td>0.160498</td>\n",
       "      <td>...</td>\n",
       "      <td>0.158994</td>\n",
       "      <td>0.051999</td>\n",
       "      <td>0.040913</td>\n",
       "      <td>0.034232</td>\n",
       "      <td>0.087851</td>\n",
       "      <td>-0.089620</td>\n",
       "      <td>-0.002075</td>\n",
       "      <td>0.082024</td>\n",
       "      <td>0.064303</td>\n",
       "      <td>0.084040</td>\n",
       "    </tr>\n",
       "    <tr>\n",
       "      <th>TP_ENSINO</th>\n",
       "      <td>0.005770</td>\n",
       "      <td>0.052090</td>\n",
       "      <td>0.013607</td>\n",
       "      <td>-0.013425</td>\n",
       "      <td>1.000000</td>\n",
       "      <td>NaN</td>\n",
       "      <td>-0.006815</td>\n",
       "      <td>-0.002763</td>\n",
       "      <td>-0.015351</td>\n",
       "      <td>-0.013577</td>\n",
       "      <td>...</td>\n",
       "      <td>-0.015351</td>\n",
       "      <td>-0.012101</td>\n",
       "      <td>-0.012223</td>\n",
       "      <td>-0.014246</td>\n",
       "      <td>-0.016142</td>\n",
       "      <td>0.007406</td>\n",
       "      <td>0.008156</td>\n",
       "      <td>-0.023199</td>\n",
       "      <td>-0.005087</td>\n",
       "      <td>-0.021146</td>\n",
       "    </tr>\n",
       "    <tr>\n",
       "      <th>IN_TREINEIRO</th>\n",
       "      <td>0.086941</td>\n",
       "      <td>-0.276725</td>\n",
       "      <td>-0.267545</td>\n",
       "      <td>-0.221365</td>\n",
       "      <td>NaN</td>\n",
       "      <td>1.000000</td>\n",
       "      <td>NaN</td>\n",
       "      <td>NaN</td>\n",
       "      <td>0.110242</td>\n",
       "      <td>0.126262</td>\n",
       "      <td>...</td>\n",
       "      <td>0.110242</td>\n",
       "      <td>0.028886</td>\n",
       "      <td>0.015729</td>\n",
       "      <td>0.025911</td>\n",
       "      <td>0.055879</td>\n",
       "      <td>-0.110715</td>\n",
       "      <td>0.014567</td>\n",
       "      <td>-0.001331</td>\n",
       "      <td>0.023941</td>\n",
       "      <td>0.022981</td>\n",
       "    </tr>\n",
       "    <tr>\n",
       "      <th>TP_DEPENDENCIA_ADM_ESC</th>\n",
       "      <td>0.079565</td>\n",
       "      <td>-0.082138</td>\n",
       "      <td>NaN</td>\n",
       "      <td>0.811156</td>\n",
       "      <td>-0.006815</td>\n",
       "      <td>NaN</td>\n",
       "      <td>1.000000</td>\n",
       "      <td>-0.078053</td>\n",
       "      <td>0.100964</td>\n",
       "      <td>0.088143</td>\n",
       "      <td>...</td>\n",
       "      <td>0.100964</td>\n",
       "      <td>0.342434</td>\n",
       "      <td>0.299706</td>\n",
       "      <td>0.280537</td>\n",
       "      <td>0.348001</td>\n",
       "      <td>-0.154545</td>\n",
       "      <td>-0.056623</td>\n",
       "      <td>0.279917</td>\n",
       "      <td>-0.078168</td>\n",
       "      <td>0.372227</td>\n",
       "    </tr>\n",
       "    <tr>\n",
       "      <th>TP_LOCALIZACAO_ESC</th>\n",
       "      <td>0.016738</td>\n",
       "      <td>0.010119</td>\n",
       "      <td>NaN</td>\n",
       "      <td>-0.057432</td>\n",
       "      <td>-0.002763</td>\n",
       "      <td>NaN</td>\n",
       "      <td>-0.078053</td>\n",
       "      <td>1.000000</td>\n",
       "      <td>-0.017866</td>\n",
       "      <td>-0.021586</td>\n",
       "      <td>...</td>\n",
       "      <td>-0.017866</td>\n",
       "      <td>-0.041052</td>\n",
       "      <td>-0.051182</td>\n",
       "      <td>-0.068877</td>\n",
       "      <td>-0.046685</td>\n",
       "      <td>0.055878</td>\n",
       "      <td>0.017594</td>\n",
       "      <td>-0.044110</td>\n",
       "      <td>0.034832</td>\n",
       "      <td>-0.059851</td>\n",
       "    </tr>\n",
       "    <tr>\n",
       "      <th>TP_PRESENCA_CN</th>\n",
       "      <td>-0.083204</td>\n",
       "      <td>-0.201027</td>\n",
       "      <td>-0.201837</td>\n",
       "      <td>0.158994</td>\n",
       "      <td>-0.015351</td>\n",
       "      <td>0.110242</td>\n",
       "      <td>0.100964</td>\n",
       "      <td>-0.017866</td>\n",
       "      <td>1.000000</td>\n",
       "      <td>0.878667</td>\n",
       "      <td>...</td>\n",
       "      <td>1.000000</td>\n",
       "      <td>NaN</td>\n",
       "      <td>0.130437</td>\n",
       "      <td>0.119111</td>\n",
       "      <td>NaN</td>\n",
       "      <td>-0.068896</td>\n",
       "      <td>-0.156828</td>\n",
       "      <td>0.184851</td>\n",
       "      <td>0.038034</td>\n",
       "      <td>NaN</td>\n",
       "    </tr>\n",
       "    <tr>\n",
       "      <th>TP_PRESENCA_CH</th>\n",
       "      <td>-0.078718</td>\n",
       "      <td>-0.208653</td>\n",
       "      <td>-0.217316</td>\n",
       "      <td>0.160498</td>\n",
       "      <td>-0.013577</td>\n",
       "      <td>0.126262</td>\n",
       "      <td>0.088143</td>\n",
       "      <td>-0.021586</td>\n",
       "      <td>0.878667</td>\n",
       "      <td>1.000000</td>\n",
       "      <td>...</td>\n",
       "      <td>0.878667</td>\n",
       "      <td>0.015424</td>\n",
       "      <td>NaN</td>\n",
       "      <td>NaN</td>\n",
       "      <td>0.010987</td>\n",
       "      <td>-0.065894</td>\n",
       "      <td>NaN</td>\n",
       "      <td>NaN</td>\n",
       "      <td>0.041692</td>\n",
       "      <td>NaN</td>\n",
       "    </tr>\n",
       "    <tr>\n",
       "      <th>TP_PRESENCA_LC</th>\n",
       "      <td>-0.078718</td>\n",
       "      <td>-0.208653</td>\n",
       "      <td>-0.217316</td>\n",
       "      <td>0.160498</td>\n",
       "      <td>-0.013577</td>\n",
       "      <td>0.126262</td>\n",
       "      <td>0.088143</td>\n",
       "      <td>-0.021586</td>\n",
       "      <td>0.878667</td>\n",
       "      <td>1.000000</td>\n",
       "      <td>...</td>\n",
       "      <td>0.878667</td>\n",
       "      <td>0.015424</td>\n",
       "      <td>NaN</td>\n",
       "      <td>NaN</td>\n",
       "      <td>0.010987</td>\n",
       "      <td>-0.065894</td>\n",
       "      <td>NaN</td>\n",
       "      <td>NaN</td>\n",
       "      <td>0.041692</td>\n",
       "      <td>NaN</td>\n",
       "    </tr>\n",
       "    <tr>\n",
       "      <th>TP_PRESENCA_MT</th>\n",
       "      <td>-0.083204</td>\n",
       "      <td>-0.201027</td>\n",
       "      <td>-0.201837</td>\n",
       "      <td>0.158994</td>\n",
       "      <td>-0.015351</td>\n",
       "      <td>0.110242</td>\n",
       "      <td>0.100964</td>\n",
       "      <td>-0.017866</td>\n",
       "      <td>1.000000</td>\n",
       "      <td>0.878667</td>\n",
       "      <td>...</td>\n",
       "      <td>1.000000</td>\n",
       "      <td>NaN</td>\n",
       "      <td>0.130437</td>\n",
       "      <td>0.119111</td>\n",
       "      <td>NaN</td>\n",
       "      <td>-0.068896</td>\n",
       "      <td>-0.156828</td>\n",
       "      <td>0.184851</td>\n",
       "      <td>0.038034</td>\n",
       "      <td>NaN</td>\n",
       "    </tr>\n",
       "    <tr>\n",
       "      <th>NU_NOTA_CN</th>\n",
       "      <td>0.013665</td>\n",
       "      <td>-0.056845</td>\n",
       "      <td>0.018426</td>\n",
       "      <td>0.051999</td>\n",
       "      <td>-0.012101</td>\n",
       "      <td>0.028886</td>\n",
       "      <td>0.342434</td>\n",
       "      <td>-0.041052</td>\n",
       "      <td>NaN</td>\n",
       "      <td>0.015424</td>\n",
       "      <td>...</td>\n",
       "      <td>NaN</td>\n",
       "      <td>1.000000</td>\n",
       "      <td>0.669247</td>\n",
       "      <td>0.642877</td>\n",
       "      <td>0.648031</td>\n",
       "      <td>-0.256514</td>\n",
       "      <td>-0.108680</td>\n",
       "      <td>0.505337</td>\n",
       "      <td>-0.096532</td>\n",
       "      <td>0.797345</td>\n",
       "    </tr>\n",
       "    <tr>\n",
       "      <th>NU_NOTA_CH</th>\n",
       "      <td>-0.006399</td>\n",
       "      <td>-0.032498</td>\n",
       "      <td>0.047753</td>\n",
       "      <td>0.040913</td>\n",
       "      <td>-0.012223</td>\n",
       "      <td>0.015729</td>\n",
       "      <td>0.299706</td>\n",
       "      <td>-0.051182</td>\n",
       "      <td>0.130437</td>\n",
       "      <td>NaN</td>\n",
       "      <td>...</td>\n",
       "      <td>0.130437</td>\n",
       "      <td>0.669247</td>\n",
       "      <td>1.000000</td>\n",
       "      <td>0.745167</td>\n",
       "      <td>0.610630</td>\n",
       "      <td>-0.248580</td>\n",
       "      <td>-0.163584</td>\n",
       "      <td>0.530075</td>\n",
       "      <td>-0.100599</td>\n",
       "      <td>0.818408</td>\n",
       "    </tr>\n",
       "    <tr>\n",
       "      <th>NU_NOTA_LC</th>\n",
       "      <td>-0.004879</td>\n",
       "      <td>-0.085970</td>\n",
       "      <td>0.018683</td>\n",
       "      <td>0.034232</td>\n",
       "      <td>-0.014246</td>\n",
       "      <td>0.025911</td>\n",
       "      <td>0.280537</td>\n",
       "      <td>-0.068877</td>\n",
       "      <td>0.119111</td>\n",
       "      <td>NaN</td>\n",
       "      <td>...</td>\n",
       "      <td>0.119111</td>\n",
       "      <td>0.642877</td>\n",
       "      <td>0.745167</td>\n",
       "      <td>1.000000</td>\n",
       "      <td>0.589680</td>\n",
       "      <td>-0.265564</td>\n",
       "      <td>-0.186751</td>\n",
       "      <td>0.538595</td>\n",
       "      <td>-0.106688</td>\n",
       "      <td>0.801932</td>\n",
       "    </tr>\n",
       "    <tr>\n",
       "      <th>NU_NOTA_MT</th>\n",
       "      <td>0.025321</td>\n",
       "      <td>-0.139390</td>\n",
       "      <td>-0.051538</td>\n",
       "      <td>0.087851</td>\n",
       "      <td>-0.016142</td>\n",
       "      <td>0.055879</td>\n",
       "      <td>0.348001</td>\n",
       "      <td>-0.046685</td>\n",
       "      <td>NaN</td>\n",
       "      <td>0.010987</td>\n",
       "      <td>...</td>\n",
       "      <td>NaN</td>\n",
       "      <td>0.648031</td>\n",
       "      <td>0.610630</td>\n",
       "      <td>0.589680</td>\n",
       "      <td>1.000000</td>\n",
       "      <td>-0.268104</td>\n",
       "      <td>-0.103768</td>\n",
       "      <td>0.495625</td>\n",
       "      <td>-0.076601</td>\n",
       "      <td>0.801501</td>\n",
       "    </tr>\n",
       "    <tr>\n",
       "      <th>TP_LINGUA</th>\n",
       "      <td>-0.023963</td>\n",
       "      <td>0.145876</td>\n",
       "      <td>0.126988</td>\n",
       "      <td>-0.089620</td>\n",
       "      <td>0.007406</td>\n",
       "      <td>-0.110715</td>\n",
       "      <td>-0.154545</td>\n",
       "      <td>0.055878</td>\n",
       "      <td>-0.068896</td>\n",
       "      <td>-0.065894</td>\n",
       "      <td>...</td>\n",
       "      <td>-0.068896</td>\n",
       "      <td>-0.256514</td>\n",
       "      <td>-0.248580</td>\n",
       "      <td>-0.265564</td>\n",
       "      <td>-0.268104</td>\n",
       "      <td>1.000000</td>\n",
       "      <td>0.041148</td>\n",
       "      <td>-0.175340</td>\n",
       "      <td>0.044401</td>\n",
       "      <td>-0.284921</td>\n",
       "    </tr>\n",
       "    <tr>\n",
       "      <th>TP_STATUS_REDACAO</th>\n",
       "      <td>0.022389</td>\n",
       "      <td>0.056552</td>\n",
       "      <td>-0.004527</td>\n",
       "      <td>-0.002075</td>\n",
       "      <td>0.008156</td>\n",
       "      <td>0.014567</td>\n",
       "      <td>-0.056623</td>\n",
       "      <td>0.017594</td>\n",
       "      <td>-0.156828</td>\n",
       "      <td>NaN</td>\n",
       "      <td>...</td>\n",
       "      <td>-0.156828</td>\n",
       "      <td>-0.108680</td>\n",
       "      <td>-0.163584</td>\n",
       "      <td>-0.186751</td>\n",
       "      <td>-0.103768</td>\n",
       "      <td>0.041148</td>\n",
       "      <td>1.000000</td>\n",
       "      <td>-0.538121</td>\n",
       "      <td>0.019124</td>\n",
       "      <td>-0.314250</td>\n",
       "    </tr>\n",
       "    <tr>\n",
       "      <th>NU_NOTA_REDACAO</th>\n",
       "      <td>-0.073068</td>\n",
       "      <td>-0.167270</td>\n",
       "      <td>-0.066168</td>\n",
       "      <td>0.082024</td>\n",
       "      <td>-0.023199</td>\n",
       "      <td>-0.001331</td>\n",
       "      <td>0.279917</td>\n",
       "      <td>-0.044110</td>\n",
       "      <td>0.184851</td>\n",
       "      <td>NaN</td>\n",
       "      <td>...</td>\n",
       "      <td>0.184851</td>\n",
       "      <td>0.505337</td>\n",
       "      <td>0.530075</td>\n",
       "      <td>0.538595</td>\n",
       "      <td>0.495625</td>\n",
       "      <td>-0.175340</td>\n",
       "      <td>-0.538121</td>\n",
       "      <td>1.000000</td>\n",
       "      <td>-0.052598</td>\n",
       "      <td>0.841888</td>\n",
       "    </tr>\n",
       "    <tr>\n",
       "      <th>Q005</th>\n",
       "      <td>-0.031557</td>\n",
       "      <td>-0.133307</td>\n",
       "      <td>-0.147945</td>\n",
       "      <td>0.064303</td>\n",
       "      <td>-0.005087</td>\n",
       "      <td>0.023941</td>\n",
       "      <td>-0.078168</td>\n",
       "      <td>0.034832</td>\n",
       "      <td>0.038034</td>\n",
       "      <td>0.041692</td>\n",
       "      <td>...</td>\n",
       "      <td>0.038034</td>\n",
       "      <td>-0.096532</td>\n",
       "      <td>-0.100599</td>\n",
       "      <td>-0.106688</td>\n",
       "      <td>-0.076601</td>\n",
       "      <td>0.044401</td>\n",
       "      <td>0.019124</td>\n",
       "      <td>-0.052598</td>\n",
       "      <td>1.000000</td>\n",
       "      <td>-0.098458</td>\n",
       "    </tr>\n",
       "    <tr>\n",
       "      <th>MEDIA_GERAL</th>\n",
       "      <td>-0.023811</td>\n",
       "      <td>-0.138191</td>\n",
       "      <td>-0.028193</td>\n",
       "      <td>0.084040</td>\n",
       "      <td>-0.021146</td>\n",
       "      <td>0.022981</td>\n",
       "      <td>0.372227</td>\n",
       "      <td>-0.059851</td>\n",
       "      <td>NaN</td>\n",
       "      <td>NaN</td>\n",
       "      <td>...</td>\n",
       "      <td>NaN</td>\n",
       "      <td>0.797345</td>\n",
       "      <td>0.818408</td>\n",
       "      <td>0.801932</td>\n",
       "      <td>0.801501</td>\n",
       "      <td>-0.284921</td>\n",
       "      <td>-0.314250</td>\n",
       "      <td>0.841888</td>\n",
       "      <td>-0.098458</td>\n",
       "      <td>1.000000</td>\n",
       "    </tr>\n",
       "  </tbody>\n",
       "</table>\n",
       "<p>21 rows × 21 columns</p>\n",
       "</div>"
      ],
      "text/plain": [
       "                        NU_INSCRICAO  NU_IDADE  TP_ANO_CONCLUIU  TP_ESCOLA  \\\n",
       "NU_INSCRICAO                1.000000  0.073590         0.075237  -0.096766   \n",
       "NU_IDADE                    0.073590  1.000000         0.778143  -0.312943   \n",
       "TP_ANO_CONCLUIU             0.075237  0.778143         1.000000  -0.430127   \n",
       "TP_ESCOLA                  -0.096766 -0.312943        -0.430127   1.000000   \n",
       "TP_ENSINO                   0.005770  0.052090         0.013607  -0.013425   \n",
       "IN_TREINEIRO                0.086941 -0.276725        -0.267545  -0.221365   \n",
       "TP_DEPENDENCIA_ADM_ESC      0.079565 -0.082138              NaN   0.811156   \n",
       "TP_LOCALIZACAO_ESC          0.016738  0.010119              NaN  -0.057432   \n",
       "TP_PRESENCA_CN             -0.083204 -0.201027        -0.201837   0.158994   \n",
       "TP_PRESENCA_CH             -0.078718 -0.208653        -0.217316   0.160498   \n",
       "TP_PRESENCA_LC             -0.078718 -0.208653        -0.217316   0.160498   \n",
       "TP_PRESENCA_MT             -0.083204 -0.201027        -0.201837   0.158994   \n",
       "NU_NOTA_CN                  0.013665 -0.056845         0.018426   0.051999   \n",
       "NU_NOTA_CH                 -0.006399 -0.032498         0.047753   0.040913   \n",
       "NU_NOTA_LC                 -0.004879 -0.085970         0.018683   0.034232   \n",
       "NU_NOTA_MT                  0.025321 -0.139390        -0.051538   0.087851   \n",
       "TP_LINGUA                  -0.023963  0.145876         0.126988  -0.089620   \n",
       "TP_STATUS_REDACAO           0.022389  0.056552        -0.004527  -0.002075   \n",
       "NU_NOTA_REDACAO            -0.073068 -0.167270        -0.066168   0.082024   \n",
       "Q005                       -0.031557 -0.133307        -0.147945   0.064303   \n",
       "MEDIA_GERAL                -0.023811 -0.138191        -0.028193   0.084040   \n",
       "\n",
       "                        TP_ENSINO  IN_TREINEIRO  TP_DEPENDENCIA_ADM_ESC  \\\n",
       "NU_INSCRICAO             0.005770      0.086941                0.079565   \n",
       "NU_IDADE                 0.052090     -0.276725               -0.082138   \n",
       "TP_ANO_CONCLUIU          0.013607     -0.267545                     NaN   \n",
       "TP_ESCOLA               -0.013425     -0.221365                0.811156   \n",
       "TP_ENSINO                1.000000           NaN               -0.006815   \n",
       "IN_TREINEIRO                  NaN      1.000000                     NaN   \n",
       "TP_DEPENDENCIA_ADM_ESC  -0.006815           NaN                1.000000   \n",
       "TP_LOCALIZACAO_ESC      -0.002763           NaN               -0.078053   \n",
       "TP_PRESENCA_CN          -0.015351      0.110242                0.100964   \n",
       "TP_PRESENCA_CH          -0.013577      0.126262                0.088143   \n",
       "TP_PRESENCA_LC          -0.013577      0.126262                0.088143   \n",
       "TP_PRESENCA_MT          -0.015351      0.110242                0.100964   \n",
       "NU_NOTA_CN              -0.012101      0.028886                0.342434   \n",
       "NU_NOTA_CH              -0.012223      0.015729                0.299706   \n",
       "NU_NOTA_LC              -0.014246      0.025911                0.280537   \n",
       "NU_NOTA_MT              -0.016142      0.055879                0.348001   \n",
       "TP_LINGUA                0.007406     -0.110715               -0.154545   \n",
       "TP_STATUS_REDACAO        0.008156      0.014567               -0.056623   \n",
       "NU_NOTA_REDACAO         -0.023199     -0.001331                0.279917   \n",
       "Q005                    -0.005087      0.023941               -0.078168   \n",
       "MEDIA_GERAL             -0.021146      0.022981                0.372227   \n",
       "\n",
       "                        TP_LOCALIZACAO_ESC  TP_PRESENCA_CN  TP_PRESENCA_CH  \\\n",
       "NU_INSCRICAO                      0.016738       -0.083204       -0.078718   \n",
       "NU_IDADE                          0.010119       -0.201027       -0.208653   \n",
       "TP_ANO_CONCLUIU                        NaN       -0.201837       -0.217316   \n",
       "TP_ESCOLA                        -0.057432        0.158994        0.160498   \n",
       "TP_ENSINO                        -0.002763       -0.015351       -0.013577   \n",
       "IN_TREINEIRO                           NaN        0.110242        0.126262   \n",
       "TP_DEPENDENCIA_ADM_ESC           -0.078053        0.100964        0.088143   \n",
       "TP_LOCALIZACAO_ESC                1.000000       -0.017866       -0.021586   \n",
       "TP_PRESENCA_CN                   -0.017866        1.000000        0.878667   \n",
       "TP_PRESENCA_CH                   -0.021586        0.878667        1.000000   \n",
       "TP_PRESENCA_LC                   -0.021586        0.878667        1.000000   \n",
       "TP_PRESENCA_MT                   -0.017866        1.000000        0.878667   \n",
       "NU_NOTA_CN                       -0.041052             NaN        0.015424   \n",
       "NU_NOTA_CH                       -0.051182        0.130437             NaN   \n",
       "NU_NOTA_LC                       -0.068877        0.119111             NaN   \n",
       "NU_NOTA_MT                       -0.046685             NaN        0.010987   \n",
       "TP_LINGUA                         0.055878       -0.068896       -0.065894   \n",
       "TP_STATUS_REDACAO                 0.017594       -0.156828             NaN   \n",
       "NU_NOTA_REDACAO                  -0.044110        0.184851             NaN   \n",
       "Q005                              0.034832        0.038034        0.041692   \n",
       "MEDIA_GERAL                      -0.059851             NaN             NaN   \n",
       "\n",
       "                        ...  TP_PRESENCA_MT  NU_NOTA_CN  NU_NOTA_CH  \\\n",
       "NU_INSCRICAO            ...       -0.083204    0.013665   -0.006399   \n",
       "NU_IDADE                ...       -0.201027   -0.056845   -0.032498   \n",
       "TP_ANO_CONCLUIU         ...       -0.201837    0.018426    0.047753   \n",
       "TP_ESCOLA               ...        0.158994    0.051999    0.040913   \n",
       "TP_ENSINO               ...       -0.015351   -0.012101   -0.012223   \n",
       "IN_TREINEIRO            ...        0.110242    0.028886    0.015729   \n",
       "TP_DEPENDENCIA_ADM_ESC  ...        0.100964    0.342434    0.299706   \n",
       "TP_LOCALIZACAO_ESC      ...       -0.017866   -0.041052   -0.051182   \n",
       "TP_PRESENCA_CN          ...        1.000000         NaN    0.130437   \n",
       "TP_PRESENCA_CH          ...        0.878667    0.015424         NaN   \n",
       "TP_PRESENCA_LC          ...        0.878667    0.015424         NaN   \n",
       "TP_PRESENCA_MT          ...        1.000000         NaN    0.130437   \n",
       "NU_NOTA_CN              ...             NaN    1.000000    0.669247   \n",
       "NU_NOTA_CH              ...        0.130437    0.669247    1.000000   \n",
       "NU_NOTA_LC              ...        0.119111    0.642877    0.745167   \n",
       "NU_NOTA_MT              ...             NaN    0.648031    0.610630   \n",
       "TP_LINGUA               ...       -0.068896   -0.256514   -0.248580   \n",
       "TP_STATUS_REDACAO       ...       -0.156828   -0.108680   -0.163584   \n",
       "NU_NOTA_REDACAO         ...        0.184851    0.505337    0.530075   \n",
       "Q005                    ...        0.038034   -0.096532   -0.100599   \n",
       "MEDIA_GERAL             ...             NaN    0.797345    0.818408   \n",
       "\n",
       "                        NU_NOTA_LC  NU_NOTA_MT  TP_LINGUA  TP_STATUS_REDACAO  \\\n",
       "NU_INSCRICAO             -0.004879    0.025321  -0.023963           0.022389   \n",
       "NU_IDADE                 -0.085970   -0.139390   0.145876           0.056552   \n",
       "TP_ANO_CONCLUIU           0.018683   -0.051538   0.126988          -0.004527   \n",
       "TP_ESCOLA                 0.034232    0.087851  -0.089620          -0.002075   \n",
       "TP_ENSINO                -0.014246   -0.016142   0.007406           0.008156   \n",
       "IN_TREINEIRO              0.025911    0.055879  -0.110715           0.014567   \n",
       "TP_DEPENDENCIA_ADM_ESC    0.280537    0.348001  -0.154545          -0.056623   \n",
       "TP_LOCALIZACAO_ESC       -0.068877   -0.046685   0.055878           0.017594   \n",
       "TP_PRESENCA_CN            0.119111         NaN  -0.068896          -0.156828   \n",
       "TP_PRESENCA_CH                 NaN    0.010987  -0.065894                NaN   \n",
       "TP_PRESENCA_LC                 NaN    0.010987  -0.065894                NaN   \n",
       "TP_PRESENCA_MT            0.119111         NaN  -0.068896          -0.156828   \n",
       "NU_NOTA_CN                0.642877    0.648031  -0.256514          -0.108680   \n",
       "NU_NOTA_CH                0.745167    0.610630  -0.248580          -0.163584   \n",
       "NU_NOTA_LC                1.000000    0.589680  -0.265564          -0.186751   \n",
       "NU_NOTA_MT                0.589680    1.000000  -0.268104          -0.103768   \n",
       "TP_LINGUA                -0.265564   -0.268104   1.000000           0.041148   \n",
       "TP_STATUS_REDACAO        -0.186751   -0.103768   0.041148           1.000000   \n",
       "NU_NOTA_REDACAO           0.538595    0.495625  -0.175340          -0.538121   \n",
       "Q005                     -0.106688   -0.076601   0.044401           0.019124   \n",
       "MEDIA_GERAL               0.801932    0.801501  -0.284921          -0.314250   \n",
       "\n",
       "                        NU_NOTA_REDACAO      Q005  MEDIA_GERAL  \n",
       "NU_INSCRICAO                  -0.073068 -0.031557    -0.023811  \n",
       "NU_IDADE                      -0.167270 -0.133307    -0.138191  \n",
       "TP_ANO_CONCLUIU               -0.066168 -0.147945    -0.028193  \n",
       "TP_ESCOLA                      0.082024  0.064303     0.084040  \n",
       "TP_ENSINO                     -0.023199 -0.005087    -0.021146  \n",
       "IN_TREINEIRO                  -0.001331  0.023941     0.022981  \n",
       "TP_DEPENDENCIA_ADM_ESC         0.279917 -0.078168     0.372227  \n",
       "TP_LOCALIZACAO_ESC            -0.044110  0.034832    -0.059851  \n",
       "TP_PRESENCA_CN                 0.184851  0.038034          NaN  \n",
       "TP_PRESENCA_CH                      NaN  0.041692          NaN  \n",
       "TP_PRESENCA_LC                      NaN  0.041692          NaN  \n",
       "TP_PRESENCA_MT                 0.184851  0.038034          NaN  \n",
       "NU_NOTA_CN                     0.505337 -0.096532     0.797345  \n",
       "NU_NOTA_CH                     0.530075 -0.100599     0.818408  \n",
       "NU_NOTA_LC                     0.538595 -0.106688     0.801932  \n",
       "NU_NOTA_MT                     0.495625 -0.076601     0.801501  \n",
       "TP_LINGUA                     -0.175340  0.044401    -0.284921  \n",
       "TP_STATUS_REDACAO             -0.538121  0.019124    -0.314250  \n",
       "NU_NOTA_REDACAO                1.000000 -0.052598     0.841888  \n",
       "Q005                          -0.052598  1.000000    -0.098458  \n",
       "MEDIA_GERAL                    0.841888 -0.098458     1.000000  \n",
       "\n",
       "[21 rows x 21 columns]"
      ]
     },
     "execution_count": 34,
     "metadata": {},
     "output_type": "execute_result"
    }
   ],
   "source": [
    "corr"
   ]
  },
  {
   "cell_type": "code",
   "execution_count": 35,
   "metadata": {},
   "outputs": [
    {
     "data": {
      "text/plain": [
       "<matplotlib.axes._subplots.AxesSubplot at 0x7fc2a92e0690>"
      ]
     },
     "execution_count": 35,
     "metadata": {},
     "output_type": "execute_result"
    },
    {
     "data": {
      "image/png": "[encoded data removed]",
      "text/plain": [
       "<Figure size 1080x504 with 2 Axes>"
      ]
     },
     "metadata": {
      "needs_background": "light"
     },
     "output_type": "display_data"
    }
   ],
   "source": [
    "plt.figure(figsize=(15,7))\n",
    "sns.heatmap(corr, cmap='Reds')"
   ]
  },
  {
   "cell_type": "markdown",
   "metadata": {},
   "source": [
    "## Caracterização do dataset"
   ]
  },
  {
   "cell_type": "code",
   "execution_count": 36,
   "metadata": {},
   "outputs": [
    {
     "data": {
      "text/plain": [
       "<matplotlib.axes._subplots.AxesSubplot at 0x7fc143d40750>"
      ]
     },
     "execution_count": 36,
     "metadata": {},
     "output_type": "execute_result"
    },
    {
     "data": {
      "image/png": "[encoded data removed]",
      "text/plain": [
       "<Figure size 432x288 with 1 Axes>"
      ]
     },
     "metadata": {},
     "output_type": "display_data"
    }
   ],
   "source": [
    "# Inscritos no ENEM 2019\n",
    "dict_tp_sexo = {\"F\": \"Feminino\", \"M\": \"Masculino\"}\n",
    "dataset = dataset.replace({\"TP_SEXO\": dict_tp_sexo})\n",
    "dataset['TP_SEXO'].value_counts().plot.pie()"
   ]
  },
  {
   "cell_type": "code",
   "execution_count": 37,
   "metadata": {},
   "outputs": [
    {
     "data": {
      "text/plain": [
       "<matplotlib.axes._subplots.AxesSubplot at 0x7fc143d764d0>"
      ]
     },
     "execution_count": 37,
     "metadata": {},
     "output_type": "execute_result"
    },
    {
     "data": {
      "image/png": "[encoded data removed]",
      "text/plain": [
       "<Figure size 432x288 with 1 Axes>"
      ]
     },
     "metadata": {},
     "output_type": "display_data"
    }
   ],
   "source": [
    "# Presentes (em todas as provas) ENEM 2019\n",
    "presentes = dataset.query('TP_PRESENCA_CN == 1 & TP_PRESENCA_CH == 1 & TP_PRESENCA_LC == 1 & TP_PRESENCA_MT == 1')\n",
    "presentes['TP_SEXO'].value_counts().plot.pie()"
   ]
  },
  {
   "cell_type": "code",
   "execution_count": 38,
   "metadata": {},
   "outputs": [
    {
     "data": {
      "text/plain": [
       "<matplotlib.axes._subplots.AxesSubplot at 0x7fc143d6fb50>"
      ]
     },
     "execution_count": 38,
     "metadata": {},
     "output_type": "execute_result"
    },
    {
     "data": {
      "image/png": "[encoded data removed]",
      "text/plain": [
       "<Figure size 432x288 with 1 Axes>"
      ]
     },
     "metadata": {},
     "output_type": "display_data"
    }
   ],
   "source": [
    "# Estado civil dos incritos no enem 2019\n",
    "dict_tp_estado_civil = {0: 'Não informado', 1:'Solteiro(a)', 2: 'Casado(a)/Mora com companheiro(a)', \n",
    "                        3: 'Divorciado(a)/Desquitado(a)/Separado(a)', 4: 'Viúvo(a)'}\n",
    "dataset = dataset.replace({\"TP_ESTADO_CIVIL\": dict_tp_estado_civil})\n",
    "dataset['TP_ESTADO_CIVIL'].value_counts().plot.pie()"
   ]
  },
  {
   "cell_type": "code",
   "execution_count": 39,
   "metadata": {},
   "outputs": [
    {
     "data": {
      "text/plain": [
       "<matplotlib.axes._subplots.AxesSubplot at 0x7fc101d299d0>"
      ]
     },
     "execution_count": 39,
     "metadata": {},
     "output_type": "execute_result"
    },
    {
     "data": {
      "image/png": "[encoded data removed]",
      "text/plain": [
       "<Figure size 432x288 with 1 Axes>"
      ]
     },
     "metadata": {},
     "output_type": "display_data"
    }
   ],
   "source": [
    "dict_tp_cor_raca = {0: 'Não declarado', 1:'Branca', 2: 'Preta', \n",
    "                        3: 'Parda', 4: 'Amarela', 5: 'Indígena'}\n",
    "dataset = dataset.replace({\"TP_COR_RACA\": dict_tp_cor_raca})\n",
    "dataset['TP_COR_RACA'].value_counts().plot.pie()"
   ]
  },
  {
   "cell_type": "code",
   "execution_count": 40,
   "metadata": {},
   "outputs": [],
   "source": [
    "labels = []\n",
    "values = []\n",
    "\n",
    "for y in range(0,120):\n",
    "    labels.append(str(y))\n",
    "    values.append(len(dataset[dataset.NU_IDADE == y]))"
   ]
  },
  {
   "cell_type": "code",
   "execution_count": 41,
   "metadata": {},
   "outputs": [
    {
     "data": {
      "image/png": "[encoded data removed]",
      "text/plain": [
       "<Figure size 576x288 with 1 Axes>"
      ]
     },
     "metadata": {
      "needs_background": "light"
     },
     "output_type": "display_data"
    }
   ],
   "source": [
    "begin, end = 10,50\n",
    "\n",
    "\n",
    "def render(begin,end):\n",
    "    _labels = []\n",
    "    _values = []\n",
    "\n",
    "    for y in range(begin,end+1):\n",
    "        _labels.append(labels[y])\n",
    "        _values.append(values[y])\n",
    "\n",
    "\n",
    "    plt.clf()\n",
    "    fig = plt.gcf()\n",
    "    plt.rcdefaults()\n",
    "    plt.bar(_labels, _values)\n",
    "    plt.xticks(rotation=90)\n",
    "    fig.set_size_inches(8, 4)\n",
    "    plt.tight_layout()\n",
    "    plt.show()\n",
    "\n",
    "render(begin,end)"
   ]
  },
  {
   "cell_type": "code",
   "execution_count": 42,
   "metadata": {},
   "outputs": [
    {
     "data": {
      "image/png": "[encoded data removed]",
      "text/plain": [
       "<Figure size 640x480 with 1 Axes>"
      ]
     },
     "metadata": {},
     "output_type": "display_data"
    }
   ],
   "source": [
    "# TOP N Cidades\n",
    "N = 20\n",
    "dataset.query('TP_STATUS_REDACAO == 1 and NU_NOTA_REDACAO > 950')['NO_MUNICIPIO_RESIDENCIA'].value_counts().head(N).plot.barh()\n",
    "plt.gca().invert_yaxis()\n"
   ]
  },
  {
   "cell_type": "code",
   "execution_count": null,
   "metadata": {},
   "outputs": [],
   "source": []
  }
 ],
 "metadata": {
  "kernelspec": {
   "display_name": "Python 3",
   "language": "python",
   "name": "python3"
  },
  "language_info": {
   "codemirror_mode": {
    "name": "ipython",
    "version": 3
   },
   "file_extension": ".py",
   "mimetype": "text/x-python",
   "name": "python",
   "nbconvert_exporter": "python",
   "pygments_lexer": "ipython3",
   "version": "3.7.1"
  }
 },
 "nbformat": 4,
 "nbformat_minor": 4
}
