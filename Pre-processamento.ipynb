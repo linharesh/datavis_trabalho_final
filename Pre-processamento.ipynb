{
 "cells": [
  {
   "cell_type": "code",
   "execution_count": 1,
   "metadata": {},
   "outputs": [],
   "source": [
    "import numpy as np\n",
    "import pandas as pd\n",
    "import matplotlib.pyplot as plt\n",
    "import seaborn as sns"
   ]
  },
  {
   "cell_type": "code",
   "execution_count": 2,
   "metadata": {},
   "outputs": [],
   "source": [
    "columns = ['NU_INSCRICAO', 'NO_MUNICIPIO_RESIDENCIA', 'SG_UF_RESIDENCIA', \n",
    "           'NU_IDADE', 'TP_SEXO', 'TP_ESTADO_CIVIL', \n",
    "           'TP_COR_RACA', 'TP_ANO_CONCLUIU', 'TP_ESCOLA', \n",
    "           'TP_ENSINO', 'IN_TREINEIRO', 'TP_DEPENDENCIA_ADM_ESC', \n",
    "           'TP_LOCALIZACAO_ESC', 'TP_PRESENCA_CN', 'TP_PRESENCA_CH', \n",
    "           'TP_PRESENCA_LC', 'TP_PRESENCA_MT', 'NU_NOTA_CN', \n",
    "           'NU_NOTA_CH', 'NU_NOTA_LC', 'NU_NOTA_MT', \n",
    "           'TP_LINGUA', 'TP_STATUS_REDACAO', 'NU_NOTA_REDACAO', \n",
    "           'Q001', 'Q002', 'Q005', \n",
    "           'Q006', 'Q024', 'Q025']"
   ]
  },
  {
   "cell_type": "code",
   "execution_count": 3,
   "metadata": {},
   "outputs": [],
   "source": [
    "dataset = pd.read_csv('MICRODADOS_ENEM_2019.csv', sep=';', encoding = 'ISO-8859-1', usecols = columns)"
   ]
  },
  {
   "cell_type": "code",
   "execution_count": 4,
   "metadata": {
    "scrolled": false
   },
   "outputs": [
    {
     "data": {
      "text/html": [
       "<div>\n",
       "<style scoped>\n",
       "    .dataframe tbody tr th:only-of-type {\n",
       "        vertical-align: middle;\n",
       "    }\n",
       "\n",
       "    .dataframe tbody tr th {\n",
       "        vertical-align: top;\n",
       "    }\n",
       "\n",
       "    .dataframe thead th {\n",
       "        text-align: right;\n",
       "    }\n",
       "</style>\n",
       "<table border=\"1\" class=\"dataframe\">\n",
       "  <thead>\n",
       "    <tr style=\"text-align: right;\">\n",
       "      <th></th>\n",
       "      <th>NU_INSCRICAO</th>\n",
       "      <th>NO_MUNICIPIO_RESIDENCIA</th>\n",
       "      <th>SG_UF_RESIDENCIA</th>\n",
       "      <th>NU_IDADE</th>\n",
       "      <th>TP_SEXO</th>\n",
       "      <th>TP_ESTADO_CIVIL</th>\n",
       "      <th>TP_COR_RACA</th>\n",
       "      <th>TP_ANO_CONCLUIU</th>\n",
       "      <th>TP_ESCOLA</th>\n",
       "      <th>TP_ENSINO</th>\n",
       "      <th>...</th>\n",
       "      <th>NU_NOTA_MT</th>\n",
       "      <th>TP_LINGUA</th>\n",
       "      <th>TP_STATUS_REDACAO</th>\n",
       "      <th>NU_NOTA_REDACAO</th>\n",
       "      <th>Q001</th>\n",
       "      <th>Q002</th>\n",
       "      <th>Q005</th>\n",
       "      <th>Q006</th>\n",
       "      <th>Q024</th>\n",
       "      <th>Q025</th>\n",
       "    </tr>\n",
       "  </thead>\n",
       "  <tbody>\n",
       "    <tr>\n",
       "      <th>0</th>\n",
       "      <td>190001004627</td>\n",
       "      <td>Santarém</td>\n",
       "      <td>PA</td>\n",
       "      <td>21</td>\n",
       "      <td>M</td>\n",
       "      <td>1</td>\n",
       "      <td>3</td>\n",
       "      <td>3</td>\n",
       "      <td>1</td>\n",
       "      <td>NaN</td>\n",
       "      <td>...</td>\n",
       "      <td>369.1</td>\n",
       "      <td>0</td>\n",
       "      <td>1.0</td>\n",
       "      <td>780.0</td>\n",
       "      <td>D</td>\n",
       "      <td>E</td>\n",
       "      <td>7</td>\n",
       "      <td>B</td>\n",
       "      <td>B</td>\n",
       "      <td>A</td>\n",
       "    </tr>\n",
       "    <tr>\n",
       "      <th>1</th>\n",
       "      <td>190001004628</td>\n",
       "      <td>Mãe do Rio</td>\n",
       "      <td>PA</td>\n",
       "      <td>16</td>\n",
       "      <td>F</td>\n",
       "      <td>1</td>\n",
       "      <td>3</td>\n",
       "      <td>0</td>\n",
       "      <td>1</td>\n",
       "      <td>NaN</td>\n",
       "      <td>...</td>\n",
       "      <td>416.5</td>\n",
       "      <td>1</td>\n",
       "      <td>1.0</td>\n",
       "      <td>600.0</td>\n",
       "      <td>D</td>\n",
       "      <td>E</td>\n",
       "      <td>5</td>\n",
       "      <td>B</td>\n",
       "      <td>A</td>\n",
       "      <td>A</td>\n",
       "    </tr>\n",
       "    <tr>\n",
       "      <th>2</th>\n",
       "      <td>190001004629</td>\n",
       "      <td>Paragominas</td>\n",
       "      <td>PA</td>\n",
       "      <td>18</td>\n",
       "      <td>F</td>\n",
       "      <td>1</td>\n",
       "      <td>1</td>\n",
       "      <td>0</td>\n",
       "      <td>3</td>\n",
       "      <td>1.0</td>\n",
       "      <td>...</td>\n",
       "      <td>571.5</td>\n",
       "      <td>0</td>\n",
       "      <td>1.0</td>\n",
       "      <td>640.0</td>\n",
       "      <td>H</td>\n",
       "      <td>E</td>\n",
       "      <td>3</td>\n",
       "      <td>C</td>\n",
       "      <td>C</td>\n",
       "      <td>B</td>\n",
       "    </tr>\n",
       "    <tr>\n",
       "      <th>3</th>\n",
       "      <td>190001004630</td>\n",
       "      <td>São Sebastião da Boa Vista</td>\n",
       "      <td>PA</td>\n",
       "      <td>23</td>\n",
       "      <td>M</td>\n",
       "      <td>0</td>\n",
       "      <td>3</td>\n",
       "      <td>0</td>\n",
       "      <td>2</td>\n",
       "      <td>1.0</td>\n",
       "      <td>...</td>\n",
       "      <td>NaN</td>\n",
       "      <td>1</td>\n",
       "      <td>NaN</td>\n",
       "      <td>NaN</td>\n",
       "      <td>D</td>\n",
       "      <td>D</td>\n",
       "      <td>3</td>\n",
       "      <td>C</td>\n",
       "      <td>A</td>\n",
       "      <td>A</td>\n",
       "    </tr>\n",
       "    <tr>\n",
       "      <th>4</th>\n",
       "      <td>190001004631</td>\n",
       "      <td>Juruti</td>\n",
       "      <td>PA</td>\n",
       "      <td>23</td>\n",
       "      <td>M</td>\n",
       "      <td>1</td>\n",
       "      <td>3</td>\n",
       "      <td>5</td>\n",
       "      <td>1</td>\n",
       "      <td>1.0</td>\n",
       "      <td>...</td>\n",
       "      <td>NaN</td>\n",
       "      <td>1</td>\n",
       "      <td>NaN</td>\n",
       "      <td>NaN</td>\n",
       "      <td>B</td>\n",
       "      <td>C</td>\n",
       "      <td>5</td>\n",
       "      <td>C</td>\n",
       "      <td>A</td>\n",
       "      <td>A</td>\n",
       "    </tr>\n",
       "    <tr>\n",
       "      <th>...</th>\n",
       "      <td>...</td>\n",
       "      <td>...</td>\n",
       "      <td>...</td>\n",
       "      <td>...</td>\n",
       "      <td>...</td>\n",
       "      <td>...</td>\n",
       "      <td>...</td>\n",
       "      <td>...</td>\n",
       "      <td>...</td>\n",
       "      <td>...</td>\n",
       "      <td>...</td>\n",
       "      <td>...</td>\n",
       "      <td>...</td>\n",
       "      <td>...</td>\n",
       "      <td>...</td>\n",
       "      <td>...</td>\n",
       "      <td>...</td>\n",
       "      <td>...</td>\n",
       "      <td>...</td>\n",
       "      <td>...</td>\n",
       "      <td>...</td>\n",
       "    </tr>\n",
       "    <tr>\n",
       "      <th>5095265</th>\n",
       "      <td>190006129589</td>\n",
       "      <td>Santo Amaro</td>\n",
       "      <td>BA</td>\n",
       "      <td>28</td>\n",
       "      <td>F</td>\n",
       "      <td>2</td>\n",
       "      <td>2</td>\n",
       "      <td>9</td>\n",
       "      <td>1</td>\n",
       "      <td>1.0</td>\n",
       "      <td>...</td>\n",
       "      <td>NaN</td>\n",
       "      <td>1</td>\n",
       "      <td>NaN</td>\n",
       "      <td>NaN</td>\n",
       "      <td>H</td>\n",
       "      <td>F</td>\n",
       "      <td>1</td>\n",
       "      <td>C</td>\n",
       "      <td>A</td>\n",
       "      <td>B</td>\n",
       "    </tr>\n",
       "    <tr>\n",
       "      <th>5095266</th>\n",
       "      <td>190006129590</td>\n",
       "      <td>Salvador</td>\n",
       "      <td>BA</td>\n",
       "      <td>25</td>\n",
       "      <td>M</td>\n",
       "      <td>1</td>\n",
       "      <td>2</td>\n",
       "      <td>4</td>\n",
       "      <td>1</td>\n",
       "      <td>NaN</td>\n",
       "      <td>...</td>\n",
       "      <td>NaN</td>\n",
       "      <td>1</td>\n",
       "      <td>NaN</td>\n",
       "      <td>NaN</td>\n",
       "      <td>B</td>\n",
       "      <td>B</td>\n",
       "      <td>2</td>\n",
       "      <td>A</td>\n",
       "      <td>A</td>\n",
       "      <td>A</td>\n",
       "    </tr>\n",
       "    <tr>\n",
       "      <th>5095267</th>\n",
       "      <td>190006129591</td>\n",
       "      <td>Tremedal</td>\n",
       "      <td>BA</td>\n",
       "      <td>18</td>\n",
       "      <td>F</td>\n",
       "      <td>1</td>\n",
       "      <td>3</td>\n",
       "      <td>1</td>\n",
       "      <td>1</td>\n",
       "      <td>1.0</td>\n",
       "      <td>...</td>\n",
       "      <td>NaN</td>\n",
       "      <td>1</td>\n",
       "      <td>NaN</td>\n",
       "      <td>NaN</td>\n",
       "      <td>A</td>\n",
       "      <td>A</td>\n",
       "      <td>5</td>\n",
       "      <td>A</td>\n",
       "      <td>A</td>\n",
       "      <td>B</td>\n",
       "    </tr>\n",
       "    <tr>\n",
       "      <th>5095268</th>\n",
       "      <td>190006129592</td>\n",
       "      <td>Salvador</td>\n",
       "      <td>BA</td>\n",
       "      <td>16</td>\n",
       "      <td>M</td>\n",
       "      <td>1</td>\n",
       "      <td>1</td>\n",
       "      <td>0</td>\n",
       "      <td>1</td>\n",
       "      <td>NaN</td>\n",
       "      <td>...</td>\n",
       "      <td>396.7</td>\n",
       "      <td>0</td>\n",
       "      <td>1.0</td>\n",
       "      <td>800.0</td>\n",
       "      <td>G</td>\n",
       "      <td>G</td>\n",
       "      <td>6</td>\n",
       "      <td>I</td>\n",
       "      <td>B</td>\n",
       "      <td>B</td>\n",
       "    </tr>\n",
       "    <tr>\n",
       "      <th>5095269</th>\n",
       "      <td>190006129593</td>\n",
       "      <td>Itabuna</td>\n",
       "      <td>BA</td>\n",
       "      <td>25</td>\n",
       "      <td>F</td>\n",
       "      <td>1</td>\n",
       "      <td>2</td>\n",
       "      <td>7</td>\n",
       "      <td>1</td>\n",
       "      <td>1.0</td>\n",
       "      <td>...</td>\n",
       "      <td>470.2</td>\n",
       "      <td>1</td>\n",
       "      <td>1.0</td>\n",
       "      <td>280.0</td>\n",
       "      <td>B</td>\n",
       "      <td>D</td>\n",
       "      <td>1</td>\n",
       "      <td>B</td>\n",
       "      <td>B</td>\n",
       "      <td>B</td>\n",
       "    </tr>\n",
       "  </tbody>\n",
       "</table>\n",
       "<p>5095270 rows × 30 columns</p>\n",
       "</div>"
      ],
      "text/plain": [
       "         NU_INSCRICAO     NO_MUNICIPIO_RESIDENCIA SG_UF_RESIDENCIA  NU_IDADE  \\\n",
       "0        190001004627                    Santarém               PA        21   \n",
       "1        190001004628                  Mãe do Rio               PA        16   \n",
       "2        190001004629                 Paragominas               PA        18   \n",
       "3        190001004630  São Sebastião da Boa Vista               PA        23   \n",
       "4        190001004631                      Juruti               PA        23   \n",
       "...               ...                         ...              ...       ...   \n",
       "5095265  190006129589                 Santo Amaro               BA        28   \n",
       "5095266  190006129590                    Salvador               BA        25   \n",
       "5095267  190006129591                    Tremedal               BA        18   \n",
       "5095268  190006129592                    Salvador               BA        16   \n",
       "5095269  190006129593                     Itabuna               BA        25   \n",
       "\n",
       "        TP_SEXO  TP_ESTADO_CIVIL  TP_COR_RACA  TP_ANO_CONCLUIU  TP_ESCOLA  \\\n",
       "0             M                1            3                3          1   \n",
       "1             F                1            3                0          1   \n",
       "2             F                1            1                0          3   \n",
       "3             M                0            3                0          2   \n",
       "4             M                1            3                5          1   \n",
       "...         ...              ...          ...              ...        ...   \n",
       "5095265       F                2            2                9          1   \n",
       "5095266       M                1            2                4          1   \n",
       "5095267       F                1            3                1          1   \n",
       "5095268       M                1            1                0          1   \n",
       "5095269       F                1            2                7          1   \n",
       "\n",
       "         TP_ENSINO  ...  NU_NOTA_MT  TP_LINGUA  TP_STATUS_REDACAO  \\\n",
       "0              NaN  ...       369.1          0                1.0   \n",
       "1              NaN  ...       416.5          1                1.0   \n",
       "2              1.0  ...       571.5          0                1.0   \n",
       "3              1.0  ...         NaN          1                NaN   \n",
       "4              1.0  ...         NaN          1                NaN   \n",
       "...            ...  ...         ...        ...                ...   \n",
       "5095265        1.0  ...         NaN          1                NaN   \n",
       "5095266        NaN  ...         NaN          1                NaN   \n",
       "5095267        1.0  ...         NaN          1                NaN   \n",
       "5095268        NaN  ...       396.7          0                1.0   \n",
       "5095269        1.0  ...       470.2          1                1.0   \n",
       "\n",
       "         NU_NOTA_REDACAO  Q001  Q002  Q005  Q006  Q024  Q025  \n",
       "0                  780.0     D     E     7     B     B     A  \n",
       "1                  600.0     D     E     5     B     A     A  \n",
       "2                  640.0     H     E     3     C     C     B  \n",
       "3                    NaN     D     D     3     C     A     A  \n",
       "4                    NaN     B     C     5     C     A     A  \n",
       "...                  ...   ...   ...   ...   ...   ...   ...  \n",
       "5095265              NaN     H     F     1     C     A     B  \n",
       "5095266              NaN     B     B     2     A     A     A  \n",
       "5095267              NaN     A     A     5     A     A     B  \n",
       "5095268            800.0     G     G     6     I     B     B  \n",
       "5095269            280.0     B     D     1     B     B     B  \n",
       "\n",
       "[5095270 rows x 30 columns]"
      ]
     },
     "execution_count": 4,
     "metadata": {},
     "output_type": "execute_result"
    }
   ],
   "source": [
    "dataset"
   ]
  },
  {
   "cell_type": "code",
   "execution_count": 5,
   "metadata": {},
   "outputs": [],
   "source": [
    "# Criando o atribudo media geral\n",
    "dataset['MEDIA_GERAL'] = (dataset['NU_NOTA_CN'] +dataset['NU_NOTA_CH'] + dataset['NU_NOTA_LC'] + dataset['NU_NOTA_MT'] + dataset['NU_NOTA_REDACAO']) /5"
   ]
  },
  {
   "cell_type": "code",
   "execution_count": 6,
   "metadata": {},
   "outputs": [],
   "source": [
    "# Exportando CSV\n",
    "dataset.to_csv('preprocessed_data.csv', index = False)"
   ]
  },
  {
   "cell_type": "code",
   "execution_count": null,
   "metadata": {},
   "outputs": [],
   "source": []
  },
  {
   "cell_type": "code",
   "execution_count": 5,
   "metadata": {},
   "outputs": [],
   "source": [
    "# Normalização redução do total de campos dos atributos Q001 e Q002."
   ]
  },
  {
   "cell_type": "code",
   "execution_count": 6,
   "metadata": {},
   "outputs": [
    {
     "data": {
      "text/plain": [
       "E    1308991\n",
       "B    1135816\n",
       "C     723518\n",
       "D     586620\n",
       "H     444806\n",
       "F     375721\n",
       "A     290615\n",
       "G     229183\n",
       "Name: Q001, dtype: int64"
      ]
     },
     "execution_count": 6,
     "metadata": {},
     "output_type": "execute_result"
    }
   ],
   "source": [
    "dataset.Q001.value_counts()"
   ]
  },
  {
   "cell_type": "code",
   "execution_count": 8,
   "metadata": {},
   "outputs": [
    {
     "name": "stderr",
     "output_type": "stream",
     "text": [
      "/Users/HenriqueLinhares/anaconda3/lib/python3.7/site-packages/ipykernel_launcher.py:1: SettingWithCopyWarning: \n",
      "A value is trying to be set on a copy of a slice from a DataFrame\n",
      "\n",
      "See the caveats in the documentation: https://pandas.pydata.org/pandas-docs/stable/user_guide/indexing.html#returning-a-view-versus-a-copy\n",
      "  \"\"\"Entry point for launching an IPython kernel.\n",
      "/Users/HenriqueLinhares/anaconda3/lib/python3.7/site-packages/ipykernel_launcher.py:2: SettingWithCopyWarning: \n",
      "A value is trying to be set on a copy of a slice from a DataFrame\n",
      "\n",
      "See the caveats in the documentation: https://pandas.pydata.org/pandas-docs/stable/user_guide/indexing.html#returning-a-view-versus-a-copy\n",
      "  \n",
      "/Users/HenriqueLinhares/anaconda3/lib/python3.7/site-packages/ipykernel_launcher.py:3: SettingWithCopyWarning: \n",
      "A value is trying to be set on a copy of a slice from a DataFrame\n",
      "\n",
      "See the caveats in the documentation: https://pandas.pydata.org/pandas-docs/stable/user_guide/indexing.html#returning-a-view-versus-a-copy\n",
      "  This is separate from the ipykernel package so we can avoid doing imports until\n"
     ]
    }
   ],
   "source": [
    "dataset.Q001[(dataset.Q001=='A') | (dataset.Q001 == 'B') | (dataset.Q001 == 'C') | (dataset.Q001 == 'D') | (dataset.Q001 == 'H')] = 0\n",
    "dataset.Q001[(dataset.Q001=='E')] = 1\n",
    "dataset.Q001[(dataset.Q001=='F') | (dataset.Q001 == 'G')] = 2\n"
   ]
  },
  {
   "cell_type": "code",
   "execution_count": 9,
   "metadata": {},
   "outputs": [
    {
     "data": {
      "text/plain": [
       "E    1633692\n",
       "B     854826\n",
       "C     686198\n",
       "D     667415\n",
       "F     513711\n",
       "G     399470\n",
       "A     194625\n",
       "H     145333\n",
       "Name: Q002, dtype: int64"
      ]
     },
     "execution_count": 9,
     "metadata": {},
     "output_type": "execute_result"
    }
   ],
   "source": [
    "dataset.Q002.value_counts()"
   ]
  },
  {
   "cell_type": "code",
   "execution_count": 10,
   "metadata": {},
   "outputs": [
    {
     "name": "stderr",
     "output_type": "stream",
     "text": [
      "/Users/HenriqueLinhares/anaconda3/lib/python3.7/site-packages/ipykernel_launcher.py:1: SettingWithCopyWarning: \n",
      "A value is trying to be set on a copy of a slice from a DataFrame\n",
      "\n",
      "See the caveats in the documentation: https://pandas.pydata.org/pandas-docs/stable/user_guide/indexing.html#returning-a-view-versus-a-copy\n",
      "  \"\"\"Entry point for launching an IPython kernel.\n",
      "/Users/HenriqueLinhares/anaconda3/lib/python3.7/site-packages/ipykernel_launcher.py:2: SettingWithCopyWarning: \n",
      "A value is trying to be set on a copy of a slice from a DataFrame\n",
      "\n",
      "See the caveats in the documentation: https://pandas.pydata.org/pandas-docs/stable/user_guide/indexing.html#returning-a-view-versus-a-copy\n",
      "  \n",
      "/Users/HenriqueLinhares/anaconda3/lib/python3.7/site-packages/ipykernel_launcher.py:3: SettingWithCopyWarning: \n",
      "A value is trying to be set on a copy of a slice from a DataFrame\n",
      "\n",
      "See the caveats in the documentation: https://pandas.pydata.org/pandas-docs/stable/user_guide/indexing.html#returning-a-view-versus-a-copy\n",
      "  This is separate from the ipykernel package so we can avoid doing imports until\n"
     ]
    }
   ],
   "source": [
    "dataset.Q002[(dataset.Q002=='A') | (dataset.Q002 == 'B') | (dataset.Q002 == 'C') | (dataset.Q002 == 'D') | (dataset.Q002 == 'H')] = 0\n",
    "dataset.Q002[(dataset.Q002=='E')] = 1\n",
    "dataset.Q002[(dataset.Q002=='F') | (dataset.Q002 == 'G')] = 2"
   ]
  },
  {
   "cell_type": "code",
   "execution_count": null,
   "metadata": {},
   "outputs": [],
   "source": []
  },
  {
   "cell_type": "code",
   "execution_count": 11,
   "metadata": {},
   "outputs": [],
   "source": [
    "# Normalização redução do total de campos dos atributos Q006"
   ]
  },
  {
   "cell_type": "code",
   "execution_count": 12,
   "metadata": {},
   "outputs": [
    {
     "data": {
      "text/plain": [
       "C    1311465\n",
       "B    1273250\n",
       "D     499616\n",
       "E     475568\n",
       "G     301922\n",
       "A     232075\n",
       "F     226251\n",
       "H     192912\n",
       "I     143652\n",
       "J      80789\n",
       "N      61649\n",
       "K      58026\n",
       "Q      57149\n",
       "O      50203\n",
       "L      44189\n",
       "M      43300\n",
       "P      43254\n",
       "Name: Q006, dtype: int64"
      ]
     },
     "execution_count": 12,
     "metadata": {},
     "output_type": "execute_result"
    }
   ],
   "source": [
    "dataset.Q006.value_counts()"
   ]
  },
  {
   "cell_type": "code",
   "execution_count": 13,
   "metadata": {},
   "outputs": [
    {
     "name": "stderr",
     "output_type": "stream",
     "text": [
      "/Users/HenriqueLinhares/anaconda3/lib/python3.7/site-packages/ipykernel_launcher.py:1: SettingWithCopyWarning: \n",
      "A value is trying to be set on a copy of a slice from a DataFrame\n",
      "\n",
      "See the caveats in the documentation: https://pandas.pydata.org/pandas-docs/stable/user_guide/indexing.html#returning-a-view-versus-a-copy\n",
      "  \"\"\"Entry point for launching an IPython kernel.\n",
      "/Users/HenriqueLinhares/anaconda3/lib/python3.7/site-packages/ipykernel_launcher.py:2: SettingWithCopyWarning: \n",
      "A value is trying to be set on a copy of a slice from a DataFrame\n",
      "\n",
      "See the caveats in the documentation: https://pandas.pydata.org/pandas-docs/stable/user_guide/indexing.html#returning-a-view-versus-a-copy\n",
      "  \n"
     ]
    }
   ],
   "source": [
    "dataset.Q006[(dataset.Q006=='A') | (dataset.Q006 == 'B')] = 0\n",
    "dataset.Q006[(dataset.Q006=='C')] = 1"
   ]
  },
  {
   "cell_type": "code",
   "execution_count": 14,
   "metadata": {},
   "outputs": [
    {
     "name": "stderr",
     "output_type": "stream",
     "text": [
      "/Users/HenriqueLinhares/anaconda3/lib/python3.7/site-packages/ipykernel_launcher.py:1: SettingWithCopyWarning: \n",
      "A value is trying to be set on a copy of a slice from a DataFrame\n",
      "\n",
      "See the caveats in the documentation: https://pandas.pydata.org/pandas-docs/stable/user_guide/indexing.html#returning-a-view-versus-a-copy\n",
      "  \"\"\"Entry point for launching an IPython kernel.\n"
     ]
    }
   ],
   "source": [
    "dataset.Q006[(dataset.Q006 !=0) & (dataset.Q006 !=1)] = 2"
   ]
  },
  {
   "cell_type": "code",
   "execution_count": 15,
   "metadata": {},
   "outputs": [
    {
     "data": {
      "text/plain": [
       "2    2278480\n",
       "0    1505325\n",
       "1    1311465\n",
       "Name: Q006, dtype: int64"
      ]
     },
     "execution_count": 15,
     "metadata": {},
     "output_type": "execute_result"
    }
   ],
   "source": [
    "dataset.Q006.value_counts()"
   ]
  },
  {
   "cell_type": "code",
   "execution_count": null,
   "metadata": {},
   "outputs": [],
   "source": []
  },
  {
   "cell_type": "code",
   "execution_count": 16,
   "metadata": {},
   "outputs": [],
   "source": [
    "# Normalização redução do total de campos dos atributos Q024"
   ]
  },
  {
   "cell_type": "code",
   "execution_count": 17,
   "metadata": {},
   "outputs": [
    {
     "data": {
      "text/plain": [
       "A    2345467\n",
       "B    2202984\n",
       "C     384607\n",
       "D     114655\n",
       "E      47557\n",
       "Name: Q024, dtype: int64"
      ]
     },
     "execution_count": 17,
     "metadata": {},
     "output_type": "execute_result"
    }
   ],
   "source": [
    "dataset.Q024.value_counts()"
   ]
  },
  {
   "cell_type": "code",
   "execution_count": 18,
   "metadata": {},
   "outputs": [
    {
     "name": "stderr",
     "output_type": "stream",
     "text": [
      "/Users/HenriqueLinhares/anaconda3/lib/python3.7/site-packages/ipykernel_launcher.py:1: SettingWithCopyWarning: \n",
      "A value is trying to be set on a copy of a slice from a DataFrame\n",
      "\n",
      "See the caveats in the documentation: https://pandas.pydata.org/pandas-docs/stable/user_guide/indexing.html#returning-a-view-versus-a-copy\n",
      "  \"\"\"Entry point for launching an IPython kernel.\n",
      "/Users/HenriqueLinhares/anaconda3/lib/python3.7/site-packages/ipykernel_launcher.py:2: SettingWithCopyWarning: \n",
      "A value is trying to be set on a copy of a slice from a DataFrame\n",
      "\n",
      "See the caveats in the documentation: https://pandas.pydata.org/pandas-docs/stable/user_guide/indexing.html#returning-a-view-versus-a-copy\n",
      "  \n"
     ]
    }
   ],
   "source": [
    "dataset.Q024[(dataset.Q024=='A')] = 0\n",
    "dataset.Q024[(dataset.Q024 !=0)] = 1"
   ]
  },
  {
   "cell_type": "code",
   "execution_count": 19,
   "metadata": {},
   "outputs": [
    {
     "data": {
      "text/plain": [
       "1    2749803\n",
       "0    2345467\n",
       "Name: Q024, dtype: int64"
      ]
     },
     "execution_count": 19,
     "metadata": {},
     "output_type": "execute_result"
    }
   ],
   "source": [
    "dataset.Q024.value_counts()"
   ]
  },
  {
   "cell_type": "code",
   "execution_count": null,
   "metadata": {},
   "outputs": [],
   "source": []
  },
  {
   "cell_type": "code",
   "execution_count": 20,
   "metadata": {},
   "outputs": [],
   "source": [
    "# Normalização redução do total de campos dos atributos Q025"
   ]
  },
  {
   "cell_type": "code",
   "execution_count": 21,
   "metadata": {},
   "outputs": [
    {
     "data": {
      "text/plain": [
       "B    3954805\n",
       "A    1140465\n",
       "Name: Q025, dtype: int64"
      ]
     },
     "execution_count": 21,
     "metadata": {},
     "output_type": "execute_result"
    }
   ],
   "source": [
    "dataset.Q025.value_counts()"
   ]
  },
  {
   "cell_type": "code",
   "execution_count": 22,
   "metadata": {},
   "outputs": [
    {
     "name": "stderr",
     "output_type": "stream",
     "text": [
      "/Users/HenriqueLinhares/anaconda3/lib/python3.7/site-packages/ipykernel_launcher.py:1: SettingWithCopyWarning: \n",
      "A value is trying to be set on a copy of a slice from a DataFrame\n",
      "\n",
      "See the caveats in the documentation: https://pandas.pydata.org/pandas-docs/stable/user_guide/indexing.html#returning-a-view-versus-a-copy\n",
      "  \"\"\"Entry point for launching an IPython kernel.\n",
      "/Users/HenriqueLinhares/anaconda3/lib/python3.7/site-packages/ipykernel_launcher.py:2: SettingWithCopyWarning: \n",
      "A value is trying to be set on a copy of a slice from a DataFrame\n",
      "\n",
      "See the caveats in the documentation: https://pandas.pydata.org/pandas-docs/stable/user_guide/indexing.html#returning-a-view-versus-a-copy\n",
      "  \n"
     ]
    }
   ],
   "source": [
    "dataset.Q025[(dataset.Q025=='A')] = 0\n",
    "dataset.Q025[(dataset.Q025 !=0)] = 1"
   ]
  },
  {
   "cell_type": "code",
   "execution_count": 23,
   "metadata": {},
   "outputs": [
    {
     "data": {
      "text/plain": [
       "1    3954805\n",
       "0    1140465\n",
       "Name: Q025, dtype: int64"
      ]
     },
     "execution_count": 23,
     "metadata": {},
     "output_type": "execute_result"
    }
   ],
   "source": [
    "dataset.Q025.value_counts()"
   ]
  },
  {
   "cell_type": "code",
   "execution_count": null,
   "metadata": {},
   "outputs": [],
   "source": []
  },
  {
   "cell_type": "code",
   "execution_count": 24,
   "metadata": {},
   "outputs": [],
   "source": []
  },
  {
   "cell_type": "code",
   "execution_count": 25,
   "metadata": {},
   "outputs": [],
   "source": []
  },
  {
   "cell_type": "code",
   "execution_count": null,
   "metadata": {},
   "outputs": [],
   "source": []
  },
  {
   "cell_type": "code",
   "execution_count": 26,
   "metadata": {},
   "outputs": [],
   "source": [
    "#plots iniciais "
   ]
  },
  {
   "cell_type": "code",
   "execution_count": 27,
   "metadata": {},
   "outputs": [],
   "source": [
    "#total de candidatos em funcao da media geral dos candidatos "
   ]
  },
  {
   "cell_type": "code",
   "execution_count": 28,
   "metadata": {},
   "outputs": [
    {
     "data": {
      "text/plain": [
       "<matplotlib.axes._subplots.AxesSubplot at 0x7fe3ef4c9090>"
      ]
     },
     "execution_count": 28,
     "metadata": {},
     "output_type": "execute_result"
    },
    {
     "data": {
      "image/png": "[encoded data removed]",
      "text/plain": [
       "<Figure size 1080x360 with 1 Axes>"
      ]
     },
     "metadata": {
      "needs_background": "light"
     },
     "output_type": "display_data"
    }
   ],
   "source": [
    "plt.figure(figsize=(15,5))\n",
    "sns.distplot(dataset['MEDIA_GERAL'], kde=False, bins=100)"
   ]
  },
  {
   "cell_type": "code",
   "execution_count": null,
   "metadata": {},
   "outputs": [],
   "source": []
  },
  {
   "cell_type": "code",
   "execution_count": 29,
   "metadata": {},
   "outputs": [],
   "source": [
    "#Medai dos canditos por estados "
   ]
  },
  {
   "cell_type": "code",
   "execution_count": 30,
   "metadata": {},
   "outputs": [
    {
     "data": {
      "text/plain": [
       "<matplotlib.axes._subplots.AxesSubplot at 0x7fe3ef556750>"
      ]
     },
     "execution_count": 30,
     "metadata": {},
     "output_type": "execute_result"
    },
    {
     "data": {
      "image/png": "[encoded data removed]",
      "text/plain": [
       "<Figure size 720x360 with 1 Axes>"
      ]
     },
     "metadata": {
      "needs_background": "light"
     },
     "output_type": "display_data"
    }
   ],
   "source": [
    "plt.figure(figsize=(10,5))\n",
    "sns.barplot(x='SG_UF_RESIDENCIA', y='MEDIA_GERAL', data=dataset)"
   ]
  },
  {
   "cell_type": "code",
   "execution_count": null,
   "metadata": {},
   "outputs": [],
   "source": []
  },
  {
   "cell_type": "code",
   "execution_count": 31,
   "metadata": {},
   "outputs": [],
   "source": [
    "corr = dataset.corr()"
   ]
  },
  {
   "cell_type": "code",
   "execution_count": 32,
   "metadata": {},
   "outputs": [
    {
     "data": {
      "text/html": [
       "<div>\n",
       "<style scoped>\n",
       "    .dataframe tbody tr th:only-of-type {\n",
       "        vertical-align: middle;\n",
       "    }\n",
       "\n",
       "    .dataframe tbody tr th {\n",
       "        vertical-align: top;\n",
       "    }\n",
       "\n",
       "    .dataframe thead th {\n",
       "        text-align: right;\n",
       "    }\n",
       "</style>\n",
       "<table border=\"1\" class=\"dataframe\">\n",
       "  <thead>\n",
       "    <tr style=\"text-align: right;\">\n",
       "      <th></th>\n",
       "      <th>NU_INSCRICAO</th>\n",
       "      <th>NU_IDADE</th>\n",
       "      <th>TP_ESTADO_CIVIL</th>\n",
       "      <th>TP_COR_RACA</th>\n",
       "      <th>TP_ANO_CONCLUIU</th>\n",
       "      <th>TP_ESCOLA</th>\n",
       "      <th>TP_ENSINO</th>\n",
       "      <th>IN_TREINEIRO</th>\n",
       "      <th>TP_DEPENDENCIA_ADM_ESC</th>\n",
       "      <th>TP_LOCALIZACAO_ESC</th>\n",
       "      <th>...</th>\n",
       "      <th>TP_PRESENCA_MT</th>\n",
       "      <th>NU_NOTA_CN</th>\n",
       "      <th>NU_NOTA_CH</th>\n",
       "      <th>NU_NOTA_LC</th>\n",
       "      <th>NU_NOTA_MT</th>\n",
       "      <th>TP_LINGUA</th>\n",
       "      <th>TP_STATUS_REDACAO</th>\n",
       "      <th>NU_NOTA_REDACAO</th>\n",
       "      <th>Q005</th>\n",
       "      <th>MEDIA_GERAL</th>\n",
       "    </tr>\n",
       "  </thead>\n",
       "  <tbody>\n",
       "    <tr>\n",
       "      <th>NU_INSCRICAO</th>\n",
       "      <td>1.000000</td>\n",
       "      <td>0.073590</td>\n",
       "      <td>0.030469</td>\n",
       "      <td>-0.061546</td>\n",
       "      <td>0.075237</td>\n",
       "      <td>-0.096766</td>\n",
       "      <td>0.005770</td>\n",
       "      <td>0.086941</td>\n",
       "      <td>0.079565</td>\n",
       "      <td>0.016738</td>\n",
       "      <td>...</td>\n",
       "      <td>-0.083204</td>\n",
       "      <td>0.013665</td>\n",
       "      <td>-0.006399</td>\n",
       "      <td>-0.004879</td>\n",
       "      <td>0.025321</td>\n",
       "      <td>-0.023963</td>\n",
       "      <td>0.022389</td>\n",
       "      <td>-0.073068</td>\n",
       "      <td>-0.031557</td>\n",
       "      <td>-0.023811</td>\n",
       "    </tr>\n",
       "    <tr>\n",
       "      <th>NU_IDADE</th>\n",
       "      <td>0.073590</td>\n",
       "      <td>1.000000</td>\n",
       "      <td>0.380810</td>\n",
       "      <td>0.054408</td>\n",
       "      <td>0.778143</td>\n",
       "      <td>-0.312943</td>\n",
       "      <td>0.052090</td>\n",
       "      <td>-0.276725</td>\n",
       "      <td>-0.082138</td>\n",
       "      <td>0.010119</td>\n",
       "      <td>...</td>\n",
       "      <td>-0.201027</td>\n",
       "      <td>-0.056845</td>\n",
       "      <td>-0.032498</td>\n",
       "      <td>-0.085970</td>\n",
       "      <td>-0.139390</td>\n",
       "      <td>0.145876</td>\n",
       "      <td>0.056552</td>\n",
       "      <td>-0.167270</td>\n",
       "      <td>-0.133307</td>\n",
       "      <td>-0.138191</td>\n",
       "    </tr>\n",
       "    <tr>\n",
       "      <th>TP_ESTADO_CIVIL</th>\n",
       "      <td>0.030469</td>\n",
       "      <td>0.380810</td>\n",
       "      <td>1.000000</td>\n",
       "      <td>0.026363</td>\n",
       "      <td>0.288211</td>\n",
       "      <td>-0.103914</td>\n",
       "      <td>0.020229</td>\n",
       "      <td>-0.076003</td>\n",
       "      <td>-0.019519</td>\n",
       "      <td>-0.000330</td>\n",
       "      <td>...</td>\n",
       "      <td>-0.069977</td>\n",
       "      <td>-0.033126</td>\n",
       "      <td>-0.022710</td>\n",
       "      <td>-0.039353</td>\n",
       "      <td>-0.056428</td>\n",
       "      <td>0.059573</td>\n",
       "      <td>0.021242</td>\n",
       "      <td>-0.065809</td>\n",
       "      <td>-0.068116</td>\n",
       "      <td>-0.060176</td>\n",
       "    </tr>\n",
       "    <tr>\n",
       "      <th>TP_COR_RACA</th>\n",
       "      <td>-0.061546</td>\n",
       "      <td>0.054408</td>\n",
       "      <td>0.026363</td>\n",
       "      <td>1.000000</td>\n",
       "      <td>0.048211</td>\n",
       "      <td>-0.059934</td>\n",
       "      <td>0.004193</td>\n",
       "      <td>-0.066570</td>\n",
       "      <td>-0.166783</td>\n",
       "      <td>0.033262</td>\n",
       "      <td>...</td>\n",
       "      <td>-0.029462</td>\n",
       "      <td>-0.190884</td>\n",
       "      <td>-0.184918</td>\n",
       "      <td>-0.191544</td>\n",
       "      <td>-0.196824</td>\n",
       "      <td>0.141699</td>\n",
       "      <td>0.032963</td>\n",
       "      <td>-0.124368</td>\n",
       "      <td>0.089397</td>\n",
       "      <td>-0.208862</td>\n",
       "    </tr>\n",
       "    <tr>\n",
       "      <th>TP_ANO_CONCLUIU</th>\n",
       "      <td>0.075237</td>\n",
       "      <td>0.778143</td>\n",
       "      <td>0.288211</td>\n",
       "      <td>0.048211</td>\n",
       "      <td>1.000000</td>\n",
       "      <td>-0.430127</td>\n",
       "      <td>0.013607</td>\n",
       "      <td>-0.267545</td>\n",
       "      <td>NaN</td>\n",
       "      <td>NaN</td>\n",
       "      <td>...</td>\n",
       "      <td>-0.201837</td>\n",
       "      <td>0.018426</td>\n",
       "      <td>0.047753</td>\n",
       "      <td>0.018683</td>\n",
       "      <td>-0.051538</td>\n",
       "      <td>0.126988</td>\n",
       "      <td>-0.004527</td>\n",
       "      <td>-0.066168</td>\n",
       "      <td>-0.147945</td>\n",
       "      <td>-0.028193</td>\n",
       "    </tr>\n",
       "    <tr>\n",
       "      <th>TP_ESCOLA</th>\n",
       "      <td>-0.096766</td>\n",
       "      <td>-0.312943</td>\n",
       "      <td>-0.103914</td>\n",
       "      <td>-0.059934</td>\n",
       "      <td>-0.430127</td>\n",
       "      <td>1.000000</td>\n",
       "      <td>-0.013425</td>\n",
       "      <td>-0.221365</td>\n",
       "      <td>0.811156</td>\n",
       "      <td>-0.057432</td>\n",
       "      <td>...</td>\n",
       "      <td>0.158994</td>\n",
       "      <td>0.051999</td>\n",
       "      <td>0.040913</td>\n",
       "      <td>0.034232</td>\n",
       "      <td>0.087851</td>\n",
       "      <td>-0.089620</td>\n",
       "      <td>-0.002075</td>\n",
       "      <td>0.082024</td>\n",
       "      <td>0.064303</td>\n",
       "      <td>0.084040</td>\n",
       "    </tr>\n",
       "    <tr>\n",
       "      <th>TP_ENSINO</th>\n",
       "      <td>0.005770</td>\n",
       "      <td>0.052090</td>\n",
       "      <td>0.020229</td>\n",
       "      <td>0.004193</td>\n",
       "      <td>0.013607</td>\n",
       "      <td>-0.013425</td>\n",
       "      <td>1.000000</td>\n",
       "      <td>NaN</td>\n",
       "      <td>-0.006815</td>\n",
       "      <td>-0.002763</td>\n",
       "      <td>...</td>\n",
       "      <td>-0.015351</td>\n",
       "      <td>-0.012101</td>\n",
       "      <td>-0.012223</td>\n",
       "      <td>-0.014246</td>\n",
       "      <td>-0.016142</td>\n",
       "      <td>0.007406</td>\n",
       "      <td>0.008156</td>\n",
       "      <td>-0.023199</td>\n",
       "      <td>-0.005087</td>\n",
       "      <td>-0.021146</td>\n",
       "    </tr>\n",
       "    <tr>\n",
       "      <th>IN_TREINEIRO</th>\n",
       "      <td>0.086941</td>\n",
       "      <td>-0.276725</td>\n",
       "      <td>-0.076003</td>\n",
       "      <td>-0.066570</td>\n",
       "      <td>-0.267545</td>\n",
       "      <td>-0.221365</td>\n",
       "      <td>NaN</td>\n",
       "      <td>1.000000</td>\n",
       "      <td>NaN</td>\n",
       "      <td>NaN</td>\n",
       "      <td>...</td>\n",
       "      <td>0.110242</td>\n",
       "      <td>0.028886</td>\n",
       "      <td>0.015729</td>\n",
       "      <td>0.025911</td>\n",
       "      <td>0.055879</td>\n",
       "      <td>-0.110715</td>\n",
       "      <td>0.014567</td>\n",
       "      <td>-0.001331</td>\n",
       "      <td>0.023941</td>\n",
       "      <td>0.022981</td>\n",
       "    </tr>\n",
       "    <tr>\n",
       "      <th>TP_DEPENDENCIA_ADM_ESC</th>\n",
       "      <td>0.079565</td>\n",
       "      <td>-0.082138</td>\n",
       "      <td>-0.019519</td>\n",
       "      <td>-0.166783</td>\n",
       "      <td>NaN</td>\n",
       "      <td>0.811156</td>\n",
       "      <td>-0.006815</td>\n",
       "      <td>NaN</td>\n",
       "      <td>1.000000</td>\n",
       "      <td>-0.078053</td>\n",
       "      <td>...</td>\n",
       "      <td>0.100964</td>\n",
       "      <td>0.342434</td>\n",
       "      <td>0.299706</td>\n",
       "      <td>0.280537</td>\n",
       "      <td>0.348001</td>\n",
       "      <td>-0.154545</td>\n",
       "      <td>-0.056623</td>\n",
       "      <td>0.279917</td>\n",
       "      <td>-0.078168</td>\n",
       "      <td>0.372227</td>\n",
       "    </tr>\n",
       "    <tr>\n",
       "      <th>TP_LOCALIZACAO_ESC</th>\n",
       "      <td>0.016738</td>\n",
       "      <td>0.010119</td>\n",
       "      <td>-0.000330</td>\n",
       "      <td>0.033262</td>\n",
       "      <td>NaN</td>\n",
       "      <td>-0.057432</td>\n",
       "      <td>-0.002763</td>\n",
       "      <td>NaN</td>\n",
       "      <td>-0.078053</td>\n",
       "      <td>1.000000</td>\n",
       "      <td>...</td>\n",
       "      <td>-0.017866</td>\n",
       "      <td>-0.041052</td>\n",
       "      <td>-0.051182</td>\n",
       "      <td>-0.068877</td>\n",
       "      <td>-0.046685</td>\n",
       "      <td>0.055878</td>\n",
       "      <td>0.017594</td>\n",
       "      <td>-0.044110</td>\n",
       "      <td>0.034832</td>\n",
       "      <td>-0.059851</td>\n",
       "    </tr>\n",
       "    <tr>\n",
       "      <th>TP_PRESENCA_CN</th>\n",
       "      <td>-0.083204</td>\n",
       "      <td>-0.201027</td>\n",
       "      <td>-0.069977</td>\n",
       "      <td>-0.029462</td>\n",
       "      <td>-0.201837</td>\n",
       "      <td>0.158994</td>\n",
       "      <td>-0.015351</td>\n",
       "      <td>0.110242</td>\n",
       "      <td>0.100964</td>\n",
       "      <td>-0.017866</td>\n",
       "      <td>...</td>\n",
       "      <td>1.000000</td>\n",
       "      <td>NaN</td>\n",
       "      <td>0.130437</td>\n",
       "      <td>0.119111</td>\n",
       "      <td>NaN</td>\n",
       "      <td>-0.068896</td>\n",
       "      <td>-0.156828</td>\n",
       "      <td>0.184851</td>\n",
       "      <td>0.038034</td>\n",
       "      <td>NaN</td>\n",
       "    </tr>\n",
       "    <tr>\n",
       "      <th>TP_PRESENCA_CH</th>\n",
       "      <td>-0.078718</td>\n",
       "      <td>-0.208653</td>\n",
       "      <td>-0.072998</td>\n",
       "      <td>-0.028547</td>\n",
       "      <td>-0.217316</td>\n",
       "      <td>0.160498</td>\n",
       "      <td>-0.013577</td>\n",
       "      <td>0.126262</td>\n",
       "      <td>0.088143</td>\n",
       "      <td>-0.021586</td>\n",
       "      <td>...</td>\n",
       "      <td>0.878667</td>\n",
       "      <td>0.015424</td>\n",
       "      <td>NaN</td>\n",
       "      <td>NaN</td>\n",
       "      <td>0.010987</td>\n",
       "      <td>-0.065894</td>\n",
       "      <td>NaN</td>\n",
       "      <td>NaN</td>\n",
       "      <td>0.041692</td>\n",
       "      <td>NaN</td>\n",
       "    </tr>\n",
       "    <tr>\n",
       "      <th>TP_PRESENCA_LC</th>\n",
       "      <td>-0.078718</td>\n",
       "      <td>-0.208653</td>\n",
       "      <td>-0.072998</td>\n",
       "      <td>-0.028547</td>\n",
       "      <td>-0.217316</td>\n",
       "      <td>0.160498</td>\n",
       "      <td>-0.013577</td>\n",
       "      <td>0.126262</td>\n",
       "      <td>0.088143</td>\n",
       "      <td>-0.021586</td>\n",
       "      <td>...</td>\n",
       "      <td>0.878667</td>\n",
       "      <td>0.015424</td>\n",
       "      <td>NaN</td>\n",
       "      <td>NaN</td>\n",
       "      <td>0.010987</td>\n",
       "      <td>-0.065894</td>\n",
       "      <td>NaN</td>\n",
       "      <td>NaN</td>\n",
       "      <td>0.041692</td>\n",
       "      <td>NaN</td>\n",
       "    </tr>\n",
       "    <tr>\n",
       "      <th>TP_PRESENCA_MT</th>\n",
       "      <td>-0.083204</td>\n",
       "      <td>-0.201027</td>\n",
       "      <td>-0.069977</td>\n",
       "      <td>-0.029462</td>\n",
       "      <td>-0.201837</td>\n",
       "      <td>0.158994</td>\n",
       "      <td>-0.015351</td>\n",
       "      <td>0.110242</td>\n",
       "      <td>0.100964</td>\n",
       "      <td>-0.017866</td>\n",
       "      <td>...</td>\n",
       "      <td>1.000000</td>\n",
       "      <td>NaN</td>\n",
       "      <td>0.130437</td>\n",
       "      <td>0.119111</td>\n",
       "      <td>NaN</td>\n",
       "      <td>-0.068896</td>\n",
       "      <td>-0.156828</td>\n",
       "      <td>0.184851</td>\n",
       "      <td>0.038034</td>\n",
       "      <td>NaN</td>\n",
       "    </tr>\n",
       "    <tr>\n",
       "      <th>NU_NOTA_CN</th>\n",
       "      <td>0.013665</td>\n",
       "      <td>-0.056845</td>\n",
       "      <td>-0.033126</td>\n",
       "      <td>-0.190884</td>\n",
       "      <td>0.018426</td>\n",
       "      <td>0.051999</td>\n",
       "      <td>-0.012101</td>\n",
       "      <td>0.028886</td>\n",
       "      <td>0.342434</td>\n",
       "      <td>-0.041052</td>\n",
       "      <td>...</td>\n",
       "      <td>NaN</td>\n",
       "      <td>1.000000</td>\n",
       "      <td>0.669247</td>\n",
       "      <td>0.642877</td>\n",
       "      <td>0.648031</td>\n",
       "      <td>-0.256514</td>\n",
       "      <td>-0.108680</td>\n",
       "      <td>0.505337</td>\n",
       "      <td>-0.096532</td>\n",
       "      <td>0.797345</td>\n",
       "    </tr>\n",
       "    <tr>\n",
       "      <th>NU_NOTA_CH</th>\n",
       "      <td>-0.006399</td>\n",
       "      <td>-0.032498</td>\n",
       "      <td>-0.022710</td>\n",
       "      <td>-0.184918</td>\n",
       "      <td>0.047753</td>\n",
       "      <td>0.040913</td>\n",
       "      <td>-0.012223</td>\n",
       "      <td>0.015729</td>\n",
       "      <td>0.299706</td>\n",
       "      <td>-0.051182</td>\n",
       "      <td>...</td>\n",
       "      <td>0.130437</td>\n",
       "      <td>0.669247</td>\n",
       "      <td>1.000000</td>\n",
       "      <td>0.745167</td>\n",
       "      <td>0.610630</td>\n",
       "      <td>-0.248580</td>\n",
       "      <td>-0.163584</td>\n",
       "      <td>0.530075</td>\n",
       "      <td>-0.100599</td>\n",
       "      <td>0.818408</td>\n",
       "    </tr>\n",
       "    <tr>\n",
       "      <th>NU_NOTA_LC</th>\n",
       "      <td>-0.004879</td>\n",
       "      <td>-0.085970</td>\n",
       "      <td>-0.039353</td>\n",
       "      <td>-0.191544</td>\n",
       "      <td>0.018683</td>\n",
       "      <td>0.034232</td>\n",
       "      <td>-0.014246</td>\n",
       "      <td>0.025911</td>\n",
       "      <td>0.280537</td>\n",
       "      <td>-0.068877</td>\n",
       "      <td>...</td>\n",
       "      <td>0.119111</td>\n",
       "      <td>0.642877</td>\n",
       "      <td>0.745167</td>\n",
       "      <td>1.000000</td>\n",
       "      <td>0.589680</td>\n",
       "      <td>-0.265564</td>\n",
       "      <td>-0.186751</td>\n",
       "      <td>0.538595</td>\n",
       "      <td>-0.106688</td>\n",
       "      <td>0.801932</td>\n",
       "    </tr>\n",
       "    <tr>\n",
       "      <th>NU_NOTA_MT</th>\n",
       "      <td>0.025321</td>\n",
       "      <td>-0.139390</td>\n",
       "      <td>-0.056428</td>\n",
       "      <td>-0.196824</td>\n",
       "      <td>-0.051538</td>\n",
       "      <td>0.087851</td>\n",
       "      <td>-0.016142</td>\n",
       "      <td>0.055879</td>\n",
       "      <td>0.348001</td>\n",
       "      <td>-0.046685</td>\n",
       "      <td>...</td>\n",
       "      <td>NaN</td>\n",
       "      <td>0.648031</td>\n",
       "      <td>0.610630</td>\n",
       "      <td>0.589680</td>\n",
       "      <td>1.000000</td>\n",
       "      <td>-0.268104</td>\n",
       "      <td>-0.103768</td>\n",
       "      <td>0.495625</td>\n",
       "      <td>-0.076601</td>\n",
       "      <td>0.801501</td>\n",
       "    </tr>\n",
       "    <tr>\n",
       "      <th>TP_LINGUA</th>\n",
       "      <td>-0.023963</td>\n",
       "      <td>0.145876</td>\n",
       "      <td>0.059573</td>\n",
       "      <td>0.141699</td>\n",
       "      <td>0.126988</td>\n",
       "      <td>-0.089620</td>\n",
       "      <td>0.007406</td>\n",
       "      <td>-0.110715</td>\n",
       "      <td>-0.154545</td>\n",
       "      <td>0.055878</td>\n",
       "      <td>...</td>\n",
       "      <td>-0.068896</td>\n",
       "      <td>-0.256514</td>\n",
       "      <td>-0.248580</td>\n",
       "      <td>-0.265564</td>\n",
       "      <td>-0.268104</td>\n",
       "      <td>1.000000</td>\n",
       "      <td>0.041148</td>\n",
       "      <td>-0.175340</td>\n",
       "      <td>0.044401</td>\n",
       "      <td>-0.284921</td>\n",
       "    </tr>\n",
       "    <tr>\n",
       "      <th>TP_STATUS_REDACAO</th>\n",
       "      <td>0.022389</td>\n",
       "      <td>0.056552</td>\n",
       "      <td>0.021242</td>\n",
       "      <td>0.032963</td>\n",
       "      <td>-0.004527</td>\n",
       "      <td>-0.002075</td>\n",
       "      <td>0.008156</td>\n",
       "      <td>0.014567</td>\n",
       "      <td>-0.056623</td>\n",
       "      <td>0.017594</td>\n",
       "      <td>...</td>\n",
       "      <td>-0.156828</td>\n",
       "      <td>-0.108680</td>\n",
       "      <td>-0.163584</td>\n",
       "      <td>-0.186751</td>\n",
       "      <td>-0.103768</td>\n",
       "      <td>0.041148</td>\n",
       "      <td>1.000000</td>\n",
       "      <td>-0.538121</td>\n",
       "      <td>0.019124</td>\n",
       "      <td>-0.314250</td>\n",
       "    </tr>\n",
       "    <tr>\n",
       "      <th>NU_NOTA_REDACAO</th>\n",
       "      <td>-0.073068</td>\n",
       "      <td>-0.167270</td>\n",
       "      <td>-0.065809</td>\n",
       "      <td>-0.124368</td>\n",
       "      <td>-0.066168</td>\n",
       "      <td>0.082024</td>\n",
       "      <td>-0.023199</td>\n",
       "      <td>-0.001331</td>\n",
       "      <td>0.279917</td>\n",
       "      <td>-0.044110</td>\n",
       "      <td>...</td>\n",
       "      <td>0.184851</td>\n",
       "      <td>0.505337</td>\n",
       "      <td>0.530075</td>\n",
       "      <td>0.538595</td>\n",
       "      <td>0.495625</td>\n",
       "      <td>-0.175340</td>\n",
       "      <td>-0.538121</td>\n",
       "      <td>1.000000</td>\n",
       "      <td>-0.052598</td>\n",
       "      <td>0.841888</td>\n",
       "    </tr>\n",
       "    <tr>\n",
       "      <th>Q005</th>\n",
       "      <td>-0.031557</td>\n",
       "      <td>-0.133307</td>\n",
       "      <td>-0.068116</td>\n",
       "      <td>0.089397</td>\n",
       "      <td>-0.147945</td>\n",
       "      <td>0.064303</td>\n",
       "      <td>-0.005087</td>\n",
       "      <td>0.023941</td>\n",
       "      <td>-0.078168</td>\n",
       "      <td>0.034832</td>\n",
       "      <td>...</td>\n",
       "      <td>0.038034</td>\n",
       "      <td>-0.096532</td>\n",
       "      <td>-0.100599</td>\n",
       "      <td>-0.106688</td>\n",
       "      <td>-0.076601</td>\n",
       "      <td>0.044401</td>\n",
       "      <td>0.019124</td>\n",
       "      <td>-0.052598</td>\n",
       "      <td>1.000000</td>\n",
       "      <td>-0.098458</td>\n",
       "    </tr>\n",
       "    <tr>\n",
       "      <th>MEDIA_GERAL</th>\n",
       "      <td>-0.023811</td>\n",
       "      <td>-0.138191</td>\n",
       "      <td>-0.060176</td>\n",
       "      <td>-0.208862</td>\n",
       "      <td>-0.028193</td>\n",
       "      <td>0.084040</td>\n",
       "      <td>-0.021146</td>\n",
       "      <td>0.022981</td>\n",
       "      <td>0.372227</td>\n",
       "      <td>-0.059851</td>\n",
       "      <td>...</td>\n",
       "      <td>NaN</td>\n",
       "      <td>0.797345</td>\n",
       "      <td>0.818408</td>\n",
       "      <td>0.801932</td>\n",
       "      <td>0.801501</td>\n",
       "      <td>-0.284921</td>\n",
       "      <td>-0.314250</td>\n",
       "      <td>0.841888</td>\n",
       "      <td>-0.098458</td>\n",
       "      <td>1.000000</td>\n",
       "    </tr>\n",
       "  </tbody>\n",
       "</table>\n",
       "<p>23 rows × 23 columns</p>\n",
       "</div>"
      ],
      "text/plain": [
       "                        NU_INSCRICAO  NU_IDADE  TP_ESTADO_CIVIL  TP_COR_RACA  \\\n",
       "NU_INSCRICAO                1.000000  0.073590         0.030469    -0.061546   \n",
       "NU_IDADE                    0.073590  1.000000         0.380810     0.054408   \n",
       "TP_ESTADO_CIVIL             0.030469  0.380810         1.000000     0.026363   \n",
       "TP_COR_RACA                -0.061546  0.054408         0.026363     1.000000   \n",
       "TP_ANO_CONCLUIU             0.075237  0.778143         0.288211     0.048211   \n",
       "TP_ESCOLA                  -0.096766 -0.312943        -0.103914    -0.059934   \n",
       "TP_ENSINO                   0.005770  0.052090         0.020229     0.004193   \n",
       "IN_TREINEIRO                0.086941 -0.276725        -0.076003    -0.066570   \n",
       "TP_DEPENDENCIA_ADM_ESC      0.079565 -0.082138        -0.019519    -0.166783   \n",
       "TP_LOCALIZACAO_ESC          0.016738  0.010119        -0.000330     0.033262   \n",
       "TP_PRESENCA_CN             -0.083204 -0.201027        -0.069977    -0.029462   \n",
       "TP_PRESENCA_CH             -0.078718 -0.208653        -0.072998    -0.028547   \n",
       "TP_PRESENCA_LC             -0.078718 -0.208653        -0.072998    -0.028547   \n",
       "TP_PRESENCA_MT             -0.083204 -0.201027        -0.069977    -0.029462   \n",
       "NU_NOTA_CN                  0.013665 -0.056845        -0.033126    -0.190884   \n",
       "NU_NOTA_CH                 -0.006399 -0.032498        -0.022710    -0.184918   \n",
       "NU_NOTA_LC                 -0.004879 -0.085970        -0.039353    -0.191544   \n",
       "NU_NOTA_MT                  0.025321 -0.139390        -0.056428    -0.196824   \n",
       "TP_LINGUA                  -0.023963  0.145876         0.059573     0.141699   \n",
       "TP_STATUS_REDACAO           0.022389  0.056552         0.021242     0.032963   \n",
       "NU_NOTA_REDACAO            -0.073068 -0.167270        -0.065809    -0.124368   \n",
       "Q005                       -0.031557 -0.133307        -0.068116     0.089397   \n",
       "MEDIA_GERAL                -0.023811 -0.138191        -0.060176    -0.208862   \n",
       "\n",
       "                        TP_ANO_CONCLUIU  TP_ESCOLA  TP_ENSINO  IN_TREINEIRO  \\\n",
       "NU_INSCRICAO                   0.075237  -0.096766   0.005770      0.086941   \n",
       "NU_IDADE                       0.778143  -0.312943   0.052090     -0.276725   \n",
       "TP_ESTADO_CIVIL                0.288211  -0.103914   0.020229     -0.076003   \n",
       "TP_COR_RACA                    0.048211  -0.059934   0.004193     -0.066570   \n",
       "TP_ANO_CONCLUIU                1.000000  -0.430127   0.013607     -0.267545   \n",
       "TP_ESCOLA                     -0.430127   1.000000  -0.013425     -0.221365   \n",
       "TP_ENSINO                      0.013607  -0.013425   1.000000           NaN   \n",
       "IN_TREINEIRO                  -0.267545  -0.221365        NaN      1.000000   \n",
       "TP_DEPENDENCIA_ADM_ESC              NaN   0.811156  -0.006815           NaN   \n",
       "TP_LOCALIZACAO_ESC                  NaN  -0.057432  -0.002763           NaN   \n",
       "TP_PRESENCA_CN                -0.201837   0.158994  -0.015351      0.110242   \n",
       "TP_PRESENCA_CH                -0.217316   0.160498  -0.013577      0.126262   \n",
       "TP_PRESENCA_LC                -0.217316   0.160498  -0.013577      0.126262   \n",
       "TP_PRESENCA_MT                -0.201837   0.158994  -0.015351      0.110242   \n",
       "NU_NOTA_CN                     0.018426   0.051999  -0.012101      0.028886   \n",
       "NU_NOTA_CH                     0.047753   0.040913  -0.012223      0.015729   \n",
       "NU_NOTA_LC                     0.018683   0.034232  -0.014246      0.025911   \n",
       "NU_NOTA_MT                    -0.051538   0.087851  -0.016142      0.055879   \n",
       "TP_LINGUA                      0.126988  -0.089620   0.007406     -0.110715   \n",
       "TP_STATUS_REDACAO             -0.004527  -0.002075   0.008156      0.014567   \n",
       "NU_NOTA_REDACAO               -0.066168   0.082024  -0.023199     -0.001331   \n",
       "Q005                          -0.147945   0.064303  -0.005087      0.023941   \n",
       "MEDIA_GERAL                   -0.028193   0.084040  -0.021146      0.022981   \n",
       "\n",
       "                        TP_DEPENDENCIA_ADM_ESC  TP_LOCALIZACAO_ESC  ...  \\\n",
       "NU_INSCRICAO                          0.079565            0.016738  ...   \n",
       "NU_IDADE                             -0.082138            0.010119  ...   \n",
       "TP_ESTADO_CIVIL                      -0.019519           -0.000330  ...   \n",
       "TP_COR_RACA                          -0.166783            0.033262  ...   \n",
       "TP_ANO_CONCLUIU                            NaN                 NaN  ...   \n",
       "TP_ESCOLA                             0.811156           -0.057432  ...   \n",
       "TP_ENSINO                            -0.006815           -0.002763  ...   \n",
       "IN_TREINEIRO                               NaN                 NaN  ...   \n",
       "TP_DEPENDENCIA_ADM_ESC                1.000000           -0.078053  ...   \n",
       "TP_LOCALIZACAO_ESC                   -0.078053            1.000000  ...   \n",
       "TP_PRESENCA_CN                        0.100964           -0.017866  ...   \n",
       "TP_PRESENCA_CH                        0.088143           -0.021586  ...   \n",
       "TP_PRESENCA_LC                        0.088143           -0.021586  ...   \n",
       "TP_PRESENCA_MT                        0.100964           -0.017866  ...   \n",
       "NU_NOTA_CN                            0.342434           -0.041052  ...   \n",
       "NU_NOTA_CH                            0.299706           -0.051182  ...   \n",
       "NU_NOTA_LC                            0.280537           -0.068877  ...   \n",
       "NU_NOTA_MT                            0.348001           -0.046685  ...   \n",
       "TP_LINGUA                            -0.154545            0.055878  ...   \n",
       "TP_STATUS_REDACAO                    -0.056623            0.017594  ...   \n",
       "NU_NOTA_REDACAO                       0.279917           -0.044110  ...   \n",
       "Q005                                 -0.078168            0.034832  ...   \n",
       "MEDIA_GERAL                           0.372227           -0.059851  ...   \n",
       "\n",
       "                        TP_PRESENCA_MT  NU_NOTA_CN  NU_NOTA_CH  NU_NOTA_LC  \\\n",
       "NU_INSCRICAO                 -0.083204    0.013665   -0.006399   -0.004879   \n",
       "NU_IDADE                     -0.201027   -0.056845   -0.032498   -0.085970   \n",
       "TP_ESTADO_CIVIL              -0.069977   -0.033126   -0.022710   -0.039353   \n",
       "TP_COR_RACA                  -0.029462   -0.190884   -0.184918   -0.191544   \n",
       "TP_ANO_CONCLUIU              -0.201837    0.018426    0.047753    0.018683   \n",
       "TP_ESCOLA                     0.158994    0.051999    0.040913    0.034232   \n",
       "TP_ENSINO                    -0.015351   -0.012101   -0.012223   -0.014246   \n",
       "IN_TREINEIRO                  0.110242    0.028886    0.015729    0.025911   \n",
       "TP_DEPENDENCIA_ADM_ESC        0.100964    0.342434    0.299706    0.280537   \n",
       "TP_LOCALIZACAO_ESC           -0.017866   -0.041052   -0.051182   -0.068877   \n",
       "TP_PRESENCA_CN                1.000000         NaN    0.130437    0.119111   \n",
       "TP_PRESENCA_CH                0.878667    0.015424         NaN         NaN   \n",
       "TP_PRESENCA_LC                0.878667    0.015424         NaN         NaN   \n",
       "TP_PRESENCA_MT                1.000000         NaN    0.130437    0.119111   \n",
       "NU_NOTA_CN                         NaN    1.000000    0.669247    0.642877   \n",
       "NU_NOTA_CH                    0.130437    0.669247    1.000000    0.745167   \n",
       "NU_NOTA_LC                    0.119111    0.642877    0.745167    1.000000   \n",
       "NU_NOTA_MT                         NaN    0.648031    0.610630    0.589680   \n",
       "TP_LINGUA                    -0.068896   -0.256514   -0.248580   -0.265564   \n",
       "TP_STATUS_REDACAO            -0.156828   -0.108680   -0.163584   -0.186751   \n",
       "NU_NOTA_REDACAO               0.184851    0.505337    0.530075    0.538595   \n",
       "Q005                          0.038034   -0.096532   -0.100599   -0.106688   \n",
       "MEDIA_GERAL                        NaN    0.797345    0.818408    0.801932   \n",
       "\n",
       "                        NU_NOTA_MT  TP_LINGUA  TP_STATUS_REDACAO  \\\n",
       "NU_INSCRICAO              0.025321  -0.023963           0.022389   \n",
       "NU_IDADE                 -0.139390   0.145876           0.056552   \n",
       "TP_ESTADO_CIVIL          -0.056428   0.059573           0.021242   \n",
       "TP_COR_RACA              -0.196824   0.141699           0.032963   \n",
       "TP_ANO_CONCLUIU          -0.051538   0.126988          -0.004527   \n",
       "TP_ESCOLA                 0.087851  -0.089620          -0.002075   \n",
       "TP_ENSINO                -0.016142   0.007406           0.008156   \n",
       "IN_TREINEIRO              0.055879  -0.110715           0.014567   \n",
       "TP_DEPENDENCIA_ADM_ESC    0.348001  -0.154545          -0.056623   \n",
       "TP_LOCALIZACAO_ESC       -0.046685   0.055878           0.017594   \n",
       "TP_PRESENCA_CN                 NaN  -0.068896          -0.156828   \n",
       "TP_PRESENCA_CH            0.010987  -0.065894                NaN   \n",
       "TP_PRESENCA_LC            0.010987  -0.065894                NaN   \n",
       "TP_PRESENCA_MT                 NaN  -0.068896          -0.156828   \n",
       "NU_NOTA_CN                0.648031  -0.256514          -0.108680   \n",
       "NU_NOTA_CH                0.610630  -0.248580          -0.163584   \n",
       "NU_NOTA_LC                0.589680  -0.265564          -0.186751   \n",
       "NU_NOTA_MT                1.000000  -0.268104          -0.103768   \n",
       "TP_LINGUA                -0.268104   1.000000           0.041148   \n",
       "TP_STATUS_REDACAO        -0.103768   0.041148           1.000000   \n",
       "NU_NOTA_REDACAO           0.495625  -0.175340          -0.538121   \n",
       "Q005                     -0.076601   0.044401           0.019124   \n",
       "MEDIA_GERAL               0.801501  -0.284921          -0.314250   \n",
       "\n",
       "                        NU_NOTA_REDACAO      Q005  MEDIA_GERAL  \n",
       "NU_INSCRICAO                  -0.073068 -0.031557    -0.023811  \n",
       "NU_IDADE                      -0.167270 -0.133307    -0.138191  \n",
       "TP_ESTADO_CIVIL               -0.065809 -0.068116    -0.060176  \n",
       "TP_COR_RACA                   -0.124368  0.089397    -0.208862  \n",
       "TP_ANO_CONCLUIU               -0.066168 -0.147945    -0.028193  \n",
       "TP_ESCOLA                      0.082024  0.064303     0.084040  \n",
       "TP_ENSINO                     -0.023199 -0.005087    -0.021146  \n",
       "IN_TREINEIRO                  -0.001331  0.023941     0.022981  \n",
       "TP_DEPENDENCIA_ADM_ESC         0.279917 -0.078168     0.372227  \n",
       "TP_LOCALIZACAO_ESC            -0.044110  0.034832    -0.059851  \n",
       "TP_PRESENCA_CN                 0.184851  0.038034          NaN  \n",
       "TP_PRESENCA_CH                      NaN  0.041692          NaN  \n",
       "TP_PRESENCA_LC                      NaN  0.041692          NaN  \n",
       "TP_PRESENCA_MT                 0.184851  0.038034          NaN  \n",
       "NU_NOTA_CN                     0.505337 -0.096532     0.797345  \n",
       "NU_NOTA_CH                     0.530075 -0.100599     0.818408  \n",
       "NU_NOTA_LC                     0.538595 -0.106688     0.801932  \n",
       "NU_NOTA_MT                     0.495625 -0.076601     0.801501  \n",
       "TP_LINGUA                     -0.175340  0.044401    -0.284921  \n",
       "TP_STATUS_REDACAO             -0.538121  0.019124    -0.314250  \n",
       "NU_NOTA_REDACAO                1.000000 -0.052598     0.841888  \n",
       "Q005                          -0.052598  1.000000    -0.098458  \n",
       "MEDIA_GERAL                    0.841888 -0.098458     1.000000  \n",
       "\n",
       "[23 rows x 23 columns]"
      ]
     },
     "execution_count": 32,
     "metadata": {},
     "output_type": "execute_result"
    }
   ],
   "source": [
    "corr"
   ]
  },
  {
   "cell_type": "code",
   "execution_count": 33,
   "metadata": {},
   "outputs": [
    {
     "data": {
      "text/plain": [
       "<matplotlib.axes._subplots.AxesSubplot at 0x7fe31daf2890>"
      ]
     },
     "execution_count": 33,
     "metadata": {},
     "output_type": "execute_result"
    },
    {
     "data": {
      "image/png": "[encoded data removed]",
      "text/plain": [
       "<Figure size 1080x504 with 2 Axes>"
      ]
     },
     "metadata": {
      "needs_background": "light"
     },
     "output_type": "display_data"
    }
   ],
   "source": [
    "plt.figure(figsize=(15,7))\n",
    "sns.heatmap(corr, cmap='Reds')"
   ]
  },
  {
   "cell_type": "markdown",
   "metadata": {},
   "source": [
    "## Caracterização do dataset"
   ]
  },
  {
   "cell_type": "code",
   "execution_count": 43,
   "metadata": {},
   "outputs": [
    {
     "data": {
      "text/plain": [
       "<matplotlib.axes._subplots.AxesSubplot at 0x7fe2e0da26d0>"
      ]
     },
     "execution_count": 43,
     "metadata": {},
     "output_type": "execute_result"
    },
    {
     "data": {
      "image/png": "[encoded data removed]",
      "text/plain": [
       "<Figure size 432x288 with 1 Axes>"
      ]
     },
     "metadata": {},
     "output_type": "display_data"
    }
   ],
   "source": [
    "# Inscritos no ENEM 2019\n",
    "dict_tp_sexo = {\"F\": \"Feminino\", \"M\": \"Masculino\"}\n",
    "dataset = dataset.replace({\"TP_SEXO\": dict_tp_sexo})\n",
    "dataset['TP_SEXO'].value_counts().plot.pie()"
   ]
  },
  {
   "cell_type": "code",
   "execution_count": 44,
   "metadata": {},
   "outputs": [
    {
     "data": {
      "text/plain": [
       "<matplotlib.axes._subplots.AxesSubplot at 0x7fe298688d10>"
      ]
     },
     "execution_count": 44,
     "metadata": {},
     "output_type": "execute_result"
    },
    {
     "data": {
      "image/png": "[encoded data removed]",
      "text/plain": [
       "<Figure size 432x288 with 1 Axes>"
      ]
     },
     "metadata": {},
     "output_type": "display_data"
    }
   ],
   "source": [
    "# Presentes (em todas as provas) ENEM 2019\n",
    "presentes = dataset.query('TP_PRESENCA_CN == 1 & TP_PRESENCA_CH == 1 & TP_PRESENCA_LC == 1 & TP_PRESENCA_MT == 1')\n",
    "presentes['TP_SEXO'].value_counts().plot.pie()"
   ]
  },
  {
   "cell_type": "code",
   "execution_count": 45,
   "metadata": {},
   "outputs": [
    {
     "data": {
      "text/plain": [
       "<matplotlib.axes._subplots.AxesSubplot at 0x7fe2986902d0>"
      ]
     },
     "execution_count": 45,
     "metadata": {},
     "output_type": "execute_result"
    },
    {
     "data": {
      "image/png": "[encoded data removed]",
      "text/plain": [
       "<Figure size 432x288 with 1 Axes>"
      ]
     },
     "metadata": {},
     "output_type": "display_data"
    }
   ],
   "source": [
    "# Estado civil dos incritos no enem 2019\n",
    "dict_tp_estado_civil = {0: 'Não informado', 1:'Solteiro(a)', 2: 'Casado(a)/Mora com companheiro(a)', \n",
    "                        3: 'Divorciado(a)/Desquitado(a)/Separado(a)', 4: 'Viúvo(a)'}\n",
    "dataset = dataset.replace({\"TP_ESTADO_CIVIL\": dict_tp_estado_civil})\n",
    "dataset['TP_ESTADO_CIVIL'].value_counts().plot.pie()"
   ]
  },
  {
   "cell_type": "code",
   "execution_count": 46,
   "metadata": {},
   "outputs": [
    {
     "data": {
      "text/plain": [
       "<matplotlib.axes._subplots.AxesSubplot at 0x7fe25ad8b910>"
      ]
     },
     "execution_count": 46,
     "metadata": {},
     "output_type": "execute_result"
    },
    {
     "data": {
      "image/png": "[encoded data removed]",
      "text/plain": [
       "<Figure size 432x288 with 1 Axes>"
      ]
     },
     "metadata": {},
     "output_type": "display_data"
    }
   ],
   "source": [
    "dict_tp_cor_raca = {0: 'Não declarado', 1:'Branca', 2: 'Preta', \n",
    "                        3: 'Parda', 4: 'Amarela', 5: 'Indígena'}\n",
    "dataset = dataset.replace({\"TP_COR_RACA\": dict_tp_cor_raca})\n",
    "dataset['TP_COR_RACA'].value_counts().plot.pie()"
   ]
  },
  {
   "cell_type": "code",
   "execution_count": 54,
   "metadata": {},
   "outputs": [],
   "source": [
    "labels = []\n",
    "values = []\n",
    "\n",
    "for y in range(0,120):\n",
    "    labels.append(str(y))\n",
    "    values.append(len(dataset[dataset.NU_IDADE == y]))"
   ]
  },
  {
   "cell_type": "code",
   "execution_count": 55,
   "metadata": {},
   "outputs": [
    {
     "data": {
      "image/png": "[encoded data removed]",
      "text/plain": [
       "<Figure size 800x400 with 1 Axes>"
      ]
     },
     "metadata": {},
     "output_type": "display_data"
    }
   ],
   "source": [
    "begin, end = 15,50\n",
    "\n",
    "\n",
    "def render(begin,end):\n",
    "    _labels = []\n",
    "    _values = []\n",
    "\n",
    "    for y in range(begin,end+1):\n",
    "        _labels.append(labels[y])\n",
    "        _values.append(values[y])\n",
    "\n",
    "\n",
    "    plt.clf()\n",
    "    fig = plt.gcf()\n",
    "    plt.rcdefaults()\n",
    "    plt.bar(_labels, _values)\n",
    "    plt.xticks(rotation=90)\n",
    "    fig.set_size_inches(8, 4)\n",
    "    plt.tight_layout()\n",
    "    plt.show()\n",
    "\n",
    "render(begin,end)"
   ]
  },
  {
   "cell_type": "code",
   "execution_count": 57,
   "metadata": {},
   "outputs": [
    {
     "data": {
      "image/png": "[encoded data removed]",
      "text/plain": [
       "<Figure size 640x480 with 1 Axes>"
      ]
     },
     "metadata": {},
     "output_type": "display_data"
    }
   ],
   "source": [
    "# TOP N Cidades\n",
    "N = 20\n",
    "dataset.query('TP_STATUS_REDACAO == 1 and NU_NOTA_REDACAO > 950')['NO_MUNICIPIO_RESIDENCIA'].value_counts().head(N).plot.barh()\n",
    "plt.gca().invert_yaxis()\n"
   ]
  },
  {
   "cell_type": "code",
   "execution_count": null,
   "metadata": {},
   "outputs": [],
   "source": []
  }
 ],
 "metadata": {
  "kernelspec": {
   "display_name": "Python 3",
   "language": "python",
   "name": "python3"
  },
  "language_info": {
   "codemirror_mode": {
    "name": "ipython",
    "version": 3
   },
   "file_extension": ".py",
   "mimetype": "text/x-python",
   "name": "python",
   "nbconvert_exporter": "python",
   "pygments_lexer": "ipython3",
   "version": "3.7.6"
  }
 },
 "nbformat": 4,
 "nbformat_minor": 4
}
